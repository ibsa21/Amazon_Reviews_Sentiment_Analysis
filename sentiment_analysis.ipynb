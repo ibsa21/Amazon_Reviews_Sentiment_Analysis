{
 "cells": [
  {
   "attachments": {},
   "cell_type": "markdown",
   "metadata": {},
   "source": [
    "# Sentimental Analysis of Amazon Reviews"
   ]
  },
  {
   "attachments": {},
   "cell_type": "markdown",
   "metadata": {},
   "source": [
    "## 1. Introduction"
   ]
  },
  {
   "attachments": {},
   "cell_type": "markdown",
   "metadata": {},
   "source": [
    "The Amazon Product Sentiment Analysis project focuses on analyzing and classifying the sentiment of customer reviews for products in the electronics category on the Amazon platform. With the increasing popularity of online shopping and the vast amount of customer feedback available, businesses face the challenge of effectively understanding and interpreting customer sentiments towards their electronics products. Sentiment analysis, a subfield of natural language processing, offers a solution by automating the sentiment classification process."
   ]
  },
  {
   "attachments": {},
   "cell_type": "markdown",
   "metadata": {},
   "source": [
    "Our project focuses on sentiment analysis of customer reviews for electronics products on Amazon. The review data was found on Amazon website. After preprocessing the data by removing noise and irrelevant information, we transformed the text into a numerical representation using the TF-IDF technique. We trained multiple machine learning models, including SVC, Random Forest, Logistic Regression, and Naive Bayes, on the transformed data to learn patterns and associations between text features and sentiment labels. The models were evaluated using metrics such as accuracy, precision, recall, and F1-score to assess their performance. Based on the results, we analyzed and compared the effectiveness of each model in classifying sentiment. This analysis provides valuable insights for businesses in the electronics industry to understand customer sentiment, improve product quality, and enhance overall customer satisfaction."
   ]
  },
  {
   "attachments": {},
   "cell_type": "markdown",
   "metadata": {},
   "source": [
    "The dataset used in our project consists of customer reviews for electronics products on Amazon. It includes a balanced mix of positive and negative reviews, providing a diverse range of customer sentiments. This dataset is valuable for training and evaluating sentiment analysis models."
   ]
  },
  {
   "attachments": {},
   "cell_type": "markdown",
   "metadata": {},
   "source": [
    "## 2. Imports and Data Loading"
   ]
  },
  {
   "attachments": {},
   "cell_type": "markdown",
   "metadata": {},
   "source": [
    "### 2.1 Importing required modules"
   ]
  },
  {
   "cell_type": "code",
   "execution_count": 8,
   "metadata": {},
   "outputs": [],
   "source": [
    "# Import required modules\n",
    "import re\n",
    "import lxml\n",
    "import nltk\n",
    "import numpy as np\n",
    "import pandas as pd\n",
    "import seaborn as sns\n",
    "import matplotlib.pyplot as plt\n",
    "\n",
    "from bs4 import BeautifulSoup\n",
    "from nltk.corpus import stopwords \n",
    "\n",
    "from sklearn import naive_bayes\n",
    "from sklearn.svm import LinearSVC\n",
    "from sklearn.pipeline import Pipeline \n",
    "from sklearn.neighbors import KNeighborsClassifier\n",
    "from sklearn.linear_model import LogisticRegression\n",
    "from sklearn.ensemble import RandomForestClassifier\n",
    "from sklearn.model_selection import train_test_split\n",
    "from sklearn.feature_extraction.text import TfidfVectorizer\n",
    "from sklearn.metrics import accuracy_score, confusion_matrix, classification_report,ConfusionMatrixDisplay"
   ]
  },
  {
   "attachments": {},
   "cell_type": "markdown",
   "metadata": {},
   "source": [
    "### 2.2 Loading the database"
   ]
  },
  {
   "cell_type": "code",
   "execution_count": 9,
   "metadata": {},
   "outputs": [],
   "source": [
    "#load the csv file\n",
    "data = pd.read_csv('dataset/appl_1_amazon_pc.csv')"
   ]
  },
  {
   "cell_type": "code",
   "execution_count": 10,
   "metadata": {},
   "outputs": [
    {
     "data": {
      "text/html": [
       "<div>\n",
       "<style scoped>\n",
       "    .dataframe tbody tr th:only-of-type {\n",
       "        vertical-align: middle;\n",
       "    }\n",
       "\n",
       "    .dataframe tbody tr th {\n",
       "        vertical-align: top;\n",
       "    }\n",
       "\n",
       "    .dataframe thead th {\n",
       "        text-align: right;\n",
       "    }\n",
       "</style>\n",
       "<table border=\"1\" class=\"dataframe\">\n",
       "  <thead>\n",
       "    <tr style=\"text-align: right;\">\n",
       "      <th></th>\n",
       "      <th>marketplace</th>\n",
       "      <th>customer_id</th>\n",
       "      <th>review_id</th>\n",
       "      <th>product_id</th>\n",
       "      <th>product_parent</th>\n",
       "      <th>product_title</th>\n",
       "      <th>product_category</th>\n",
       "      <th>star_rating</th>\n",
       "      <th>helpful_votes</th>\n",
       "      <th>total_votes</th>\n",
       "      <th>vine</th>\n",
       "      <th>verified_purchase</th>\n",
       "      <th>review_headline</th>\n",
       "      <th>review_body</th>\n",
       "      <th>review_date</th>\n",
       "      <th>sentiment</th>\n",
       "    </tr>\n",
       "  </thead>\n",
       "  <tbody>\n",
       "    <tr>\n",
       "      <th>0</th>\n",
       "      <td>US</td>\n",
       "      <td>11555559</td>\n",
       "      <td>R1QXC7AHHJBQ3O</td>\n",
       "      <td>B00IKPX4GY</td>\n",
       "      <td>2693241</td>\n",
       "      <td>Fire HD 7, 7\" HD Display, Wi-Fi, 8 GB</td>\n",
       "      <td>PC</td>\n",
       "      <td>5</td>\n",
       "      <td>0</td>\n",
       "      <td>0</td>\n",
       "      <td>N</td>\n",
       "      <td>Y</td>\n",
       "      <td>Five Stars</td>\n",
       "      <td>Great love it</td>\n",
       "      <td>2015-08-31</td>\n",
       "      <td>1</td>\n",
       "    </tr>\n",
       "    <tr>\n",
       "      <th>1</th>\n",
       "      <td>US</td>\n",
       "      <td>31469372</td>\n",
       "      <td>R175VSRV6ZETOP</td>\n",
       "      <td>B00IKPYKWG</td>\n",
       "      <td>2693241</td>\n",
       "      <td>Fire HD 7, 7\" HD Display, Wi-Fi, 8 GB</td>\n",
       "      <td>PC</td>\n",
       "      <td>3</td>\n",
       "      <td>0</td>\n",
       "      <td>0</td>\n",
       "      <td>N</td>\n",
       "      <td>N</td>\n",
       "      <td>Lots of ads Slow processing speed Occasionally...</td>\n",
       "      <td>Lots of ads&lt;br /&gt;Slow processing speed&lt;br /&gt;Oc...</td>\n",
       "      <td>2015-08-31</td>\n",
       "      <td>0</td>\n",
       "    </tr>\n",
       "    <tr>\n",
       "      <th>2</th>\n",
       "      <td>US</td>\n",
       "      <td>26843895</td>\n",
       "      <td>R2HRFF78MWGY19</td>\n",
       "      <td>B00IKPW0UA</td>\n",
       "      <td>2693241</td>\n",
       "      <td>Fire HD 7, 7\" HD Display, Wi-Fi, 8 GB</td>\n",
       "      <td>PC</td>\n",
       "      <td>5</td>\n",
       "      <td>0</td>\n",
       "      <td>0</td>\n",
       "      <td>N</td>\n",
       "      <td>Y</td>\n",
       "      <td>Well thought out device</td>\n",
       "      <td>Excellent unit.  The versatility of this table...</td>\n",
       "      <td>2015-08-31</td>\n",
       "      <td>1</td>\n",
       "    </tr>\n",
       "    <tr>\n",
       "      <th>3</th>\n",
       "      <td>US</td>\n",
       "      <td>19844868</td>\n",
       "      <td>R8Q39WPKYVSTX</td>\n",
       "      <td>B00LCHSHMS</td>\n",
       "      <td>2693241</td>\n",
       "      <td>Fire HD 7, 7\" HD Display, Wi-Fi, 8 GB</td>\n",
       "      <td>PC</td>\n",
       "      <td>4</td>\n",
       "      <td>0</td>\n",
       "      <td>0</td>\n",
       "      <td>N</td>\n",
       "      <td>N</td>\n",
       "      <td>Not all apps/games we were looking forward to ...</td>\n",
       "      <td>I bought this on Amazon Prime so I ended up bu...</td>\n",
       "      <td>2015-08-31</td>\n",
       "      <td>1</td>\n",
       "    </tr>\n",
       "    <tr>\n",
       "      <th>4</th>\n",
       "      <td>US</td>\n",
       "      <td>1189852</td>\n",
       "      <td>R3RL4C8YP2ZCJL</td>\n",
       "      <td>B00IKPZ5V6</td>\n",
       "      <td>2693241</td>\n",
       "      <td>Fire HD 7, 7\" HD Display, Wi-Fi, 8 GB</td>\n",
       "      <td>PC</td>\n",
       "      <td>5</td>\n",
       "      <td>0</td>\n",
       "      <td>0</td>\n",
       "      <td>N</td>\n",
       "      <td>Y</td>\n",
       "      <td>Five Stars</td>\n",
       "      <td>All Amazon products continue to meet my expect...</td>\n",
       "      <td>2015-08-31</td>\n",
       "      <td>1</td>\n",
       "    </tr>\n",
       "  </tbody>\n",
       "</table>\n",
       "</div>"
      ],
      "text/plain": [
       "  marketplace  customer_id       review_id  product_id  product_parent   \n",
       "0          US     11555559  R1QXC7AHHJBQ3O  B00IKPX4GY         2693241  \\\n",
       "1          US     31469372  R175VSRV6ZETOP  B00IKPYKWG         2693241   \n",
       "2          US     26843895  R2HRFF78MWGY19  B00IKPW0UA         2693241   \n",
       "3          US     19844868   R8Q39WPKYVSTX  B00LCHSHMS         2693241   \n",
       "4          US      1189852  R3RL4C8YP2ZCJL  B00IKPZ5V6         2693241   \n",
       "\n",
       "                           product_title product_category  star_rating   \n",
       "0  Fire HD 7, 7\" HD Display, Wi-Fi, 8 GB               PC            5  \\\n",
       "1  Fire HD 7, 7\" HD Display, Wi-Fi, 8 GB               PC            3   \n",
       "2  Fire HD 7, 7\" HD Display, Wi-Fi, 8 GB               PC            5   \n",
       "3  Fire HD 7, 7\" HD Display, Wi-Fi, 8 GB               PC            4   \n",
       "4  Fire HD 7, 7\" HD Display, Wi-Fi, 8 GB               PC            5   \n",
       "\n",
       "   helpful_votes  total_votes vine verified_purchase   \n",
       "0              0            0    N                 Y  \\\n",
       "1              0            0    N                 N   \n",
       "2              0            0    N                 Y   \n",
       "3              0            0    N                 N   \n",
       "4              0            0    N                 Y   \n",
       "\n",
       "                                     review_headline   \n",
       "0                                         Five Stars  \\\n",
       "1  Lots of ads Slow processing speed Occasionally...   \n",
       "2                            Well thought out device   \n",
       "3  Not all apps/games we were looking forward to ...   \n",
       "4                                         Five Stars   \n",
       "\n",
       "                                         review_body review_date  sentiment  \n",
       "0                                      Great love it  2015-08-31          1  \n",
       "1  Lots of ads<br />Slow processing speed<br />Oc...  2015-08-31          0  \n",
       "2  Excellent unit.  The versatility of this table...  2015-08-31          1  \n",
       "3  I bought this on Amazon Prime so I ended up bu...  2015-08-31          1  \n",
       "4  All Amazon products continue to meet my expect...  2015-08-31          1  "
      ]
     },
     "execution_count": 10,
     "metadata": {},
     "output_type": "execute_result"
    }
   ],
   "source": [
    "data.head()"
   ]
  },
  {
   "cell_type": "code",
   "execution_count": 11,
   "metadata": {},
   "outputs": [
    {
     "data": {
      "text/plain": [
       "Index(['marketplace', 'customer_id', 'review_id', 'product_id',\n",
       "       'product_parent', 'product_title', 'product_category', 'star_rating',\n",
       "       'helpful_votes', 'total_votes', 'vine', 'verified_purchase',\n",
       "       'review_headline', 'review_body', 'review_date', 'sentiment'],\n",
       "      dtype='object')"
      ]
     },
     "execution_count": 11,
     "metadata": {},
     "output_type": "execute_result"
    }
   ],
   "source": [
    "data.columns"
   ]
  },
  {
   "cell_type": "code",
   "execution_count": 12,
   "metadata": {},
   "outputs": [
    {
     "name": "stdout",
     "output_type": "stream",
     "text": [
      "<class 'pandas.core.frame.DataFrame'>\n",
      "RangeIndex: 30846 entries, 0 to 30845\n",
      "Data columns (total 16 columns):\n",
      " #   Column             Non-Null Count  Dtype \n",
      "---  ------             --------------  ----- \n",
      " 0   marketplace        30846 non-null  object\n",
      " 1   customer_id        30846 non-null  int64 \n",
      " 2   review_id          30846 non-null  object\n",
      " 3   product_id         30846 non-null  object\n",
      " 4   product_parent     30846 non-null  int64 \n",
      " 5   product_title      30846 non-null  object\n",
      " 6   product_category   30846 non-null  object\n",
      " 7   star_rating        30846 non-null  int64 \n",
      " 8   helpful_votes      30846 non-null  int64 \n",
      " 9   total_votes        30846 non-null  int64 \n",
      " 10  vine               30846 non-null  object\n",
      " 11  verified_purchase  30846 non-null  object\n",
      " 12  review_headline    30844 non-null  object\n",
      " 13  review_body        30842 non-null  object\n",
      " 14  review_date        30846 non-null  object\n",
      " 15  sentiment          30846 non-null  int64 \n",
      "dtypes: int64(6), object(10)\n",
      "memory usage: 3.8+ MB\n"
     ]
    }
   ],
   "source": [
    "# properties of the dataset\n",
    "data.info()"
   ]
  },
  {
   "attachments": {},
   "cell_type": "markdown",
   "metadata": {},
   "source": [
    "### 2.3 Data Cleaning and Preprocessing"
   ]
  },
  {
   "attachments": {},
   "cell_type": "markdown",
   "metadata": {},
   "source": [
    "Now raw text data needs to be preprocessed and cleaned before using it for training a sentiment analysis model. The preprocessing steps, such as removing HTML elements, special characters, converting to lowercase, and removing stopwords, help to standardize the text, remove noise, and focus on the most relevant information. By cleaning and preprocessing the data, we can improve the accuracy and effectiveness of the sentiment analysis model by providing it with a more refined and meaningful input."
   ]
  },
  {
   "cell_type": "code",
   "execution_count": 13,
   "metadata": {},
   "outputs": [],
   "source": [
    "# removes HTML elements and tags from the text\n",
    "def removeHTML(raw_text):\n",
    "    if isinstance(raw_text, str):\n",
    "        clean_HTML = BeautifulSoup(raw_text, 'html.parser').get_text()\n",
    "        return clean_HTML\n",
    "    else:\n",
    "        return raw_text"
   ]
  },
  {
   "cell_type": "code",
   "execution_count": 14,
   "metadata": {},
   "outputs": [],
   "source": [
    "# removes special characters from the text\n",
    "def removeSpecialChar(raw_text):\n",
    "    if isinstance(raw_text, str):\n",
    "        clean_SpecialChar = re.sub(\"[^a-zA-Z]\", \" \", raw_text)\n",
    "        return clean_SpecialChar\n",
    "    else:\n",
    "        return str(raw_text)"
   ]
  },
  {
   "cell_type": "code",
   "execution_count": 15,
   "metadata": {},
   "outputs": [],
   "source": [
    "# converts the text to lower case\n",
    "def toLowerCase(raw_text):\n",
    "    clean_LowerCase = raw_text.lower().split()\n",
    "    return( \" \".join(clean_LowerCase))  "
   ]
  },
  {
   "cell_type": "code",
   "execution_count": 16,
   "metadata": {},
   "outputs": [],
   "source": [
    "# removes stop words from the text\n",
    "def removeStopWords(raw_text):\n",
    "    stops = set(stopwords.words(\"english\"))\n",
    "    words = [w for w in raw_text if not w in stops]\n",
    "    return( \" \".join(words))"
   ]
  },
  {
   "cell_type": "code",
   "execution_count": 17,
   "metadata": {},
   "outputs": [],
   "source": [
    "# cleans data\n",
    "def clean_data(data):\n",
    "    cleaned_data = []\n",
    "    \n",
    "    for text in data:\n",
    "        text = removeHTML(text)\n",
    "        text = removeSpecialChar(text)\n",
    "        text = toLowerCase(text)\n",
    "        removeStopWords(text)\n",
    "        cleaned_data.append(text)\n",
    "    \n",
    "    return cleaned_data"
   ]
  },
  {
   "attachments": {},
   "cell_type": "markdown",
   "metadata": {},
   "source": [
    "## 3. Sentiment Analysis and Visualization of the results"
   ]
  },
  {
   "attachments": {},
   "cell_type": "markdown",
   "metadata": {},
   "source": [
    "First, we need to assign labels to Amazon product reviews based on star ratings. Reviews with 5 or 4 stars are labeled as positive, while the rest are labeled as negative. This allows us to perform sentiment analysis on the reviews."
   ]
  },
  {
   "cell_type": "code",
   "execution_count": 18,
   "metadata": {},
   "outputs": [],
   "source": [
    "data['sentiment'] = np.where(data['star_rating'] == 5.0, 1,\n",
    "                           np.where(data['star_rating'] == 4.0, 1, 0))"
   ]
  },
  {
   "attachments": {},
   "cell_type": "markdown",
   "metadata": {},
   "source": [
    "Now let's choose a particular product for analysis. This allows for a more focused and actionable understanding of customer sentiments"
   ]
  },
  {
   "cell_type": "code",
   "execution_count": 19,
   "metadata": {},
   "outputs": [],
   "source": [
    "def get_particular_product(data, product_name):\n",
    "    data = data.loc[data[\"product_title\"] == product_name]\n",
    "    return data"
   ]
  },
  {
   "cell_type": "code",
   "execution_count": 20,
   "metadata": {},
   "outputs": [],
   "source": [
    "# Choose a particular product for analysis\n",
    "selected_product = get_particular_product(data, 'Fire HD 7, 7\" HD Display, Wi-Fi, 8 GB')"
   ]
  },
  {
   "attachments": {},
   "cell_type": "markdown",
   "metadata": {},
   "source": [
    "\n",
    "Now, we'll split into training and testing datasets for sentiment analysis of a specific product."
   ]
  },
  {
   "cell_type": "code",
   "execution_count": 21,
   "metadata": {},
   "outputs": [],
   "source": [
    "# Split the dataset into training and testing sets\n",
    "reviews = selected_product['review_body']\n",
    "sentiments = selected_product['sentiment']\n",
    "\n",
    "X_train, X_test, y_train, y_test = train_test_split(reviews, sentiments, test_size=0.2, random_state=42)"
   ]
  },
  {
   "cell_type": "code",
   "execution_count": 22,
   "metadata": {},
   "outputs": [
    {
     "name": "stderr",
     "output_type": "stream",
     "text": [
      "C:\\Users\\ibsaa\\AppData\\Local\\Temp\\ipykernel_27780\\3698073279.py:4: MarkupResemblesLocatorWarning: The input looks more like a filename than markup. You may want to open this file and pass the filehandle into Beautiful Soup.\n",
      "  clean_HTML = BeautifulSoup(raw_text, 'html.parser').get_text()\n"
     ]
    }
   ],
   "source": [
    "# cleans the text data\n",
    "cleaned_X_train = clean_data(X_train)\n",
    "cleaned_X_test = clean_data(X_test)\n"
   ]
  },
  {
   "attachments": {},
   "cell_type": "markdown",
   "metadata": {},
   "source": [
    "### TF-IDF Feature Extraction"
   ]
  },
  {
   "attachments": {},
   "cell_type": "markdown",
   "metadata": {},
   "source": [
    "- TF-IDF feature extraction is used to convert the raw textual reviews into a numerical representation. This technique considers the frequency of words in each review (term frequency, TF) and the rarity of words across all reviews (inverse document frequency, IDF).\n",
    "- In our case, TF-IDF feature extraction is applied to capture the relevance and distinctiveness of words in the reviews, improving the accuracy of sentiment analysis on Amazon product data."
   ]
  },
  {
   "cell_type": "code",
   "execution_count": 23,
   "metadata": {},
   "outputs": [],
   "source": [
    "# create a TF-IDF vectorizer object\n",
    "tvec = TfidfVectorizer(use_idf=True, strip_accents='ascii')\n",
    "\n",
    "# fit and transform the preprocessed training data into TF-IDF features\n",
    "X_train_tvec = tvec.fit_transform(cleaned_X_train)\n",
    "X_test_tvec = tvec.transform(cleaned_X_test)"
   ]
  },
  {
   "attachments": {},
   "cell_type": "markdown",
   "metadata": {},
   "source": [
    "#### Useful funtions"
   ]
  },
  {
   "cell_type": "code",
   "execution_count": 24,
   "metadata": {},
   "outputs": [],
   "source": [
    "def predict_generated_report(model, y_test,  x_test_tvec):\n",
    "    prediction = model.predict(x_test_tvec)\n",
    "    report = classification_report(y_test, prediction, output_dict=True)\n",
    "    classification_report_df = pd.DataFrame(report).transpose().round(2)\n",
    "\n",
    "    return [prediction, classification_report_df]"
   ]
  },
  {
   "cell_type": "code",
   "execution_count": 25,
   "metadata": {},
   "outputs": [],
   "source": [
    "def display_classification_report(color, dataframe):\n",
    "    cm = sns.light_palette(color, as_cmap=True)  \n",
    "    return dataframe.style.background_gradient(cmap=cm)"
   ]
  },
  {
   "cell_type": "code",
   "execution_count": 26,
   "metadata": {},
   "outputs": [],
   "source": [
    "def plot_confusition_matrix(color, y_test, prediction):\n",
    "    # confusion matrix\n",
    "    ax= plt.subplot()\n",
    "    cm=confusion_matrix(y_test,prediction)\n",
    "    sns.heatmap(cm, annot=True, fmt='g', ax=ax,cmap=color);  #annot=True to annotate cells\n",
    "    ax.set_xlabel('Predicted labels');ax.set_ylabel('True labels')\n",
    "    ax.set_title('Confusion Matrix')\n",
    "    ax.xaxis.set_ticklabels(['negative', 'positive']); ax.yaxis.set_ticklabels(['negative', 'positive'])\n",
    "    print(cm)\n",
    "    "
   ]
  },
  {
   "cell_type": "code",
   "execution_count": 27,
   "metadata": {},
   "outputs": [],
   "source": [
    "def predict_sentiment(model, review):\n",
    "    # Transform the review using the TF-IDF vectorizer\n",
    "    review_tvec = tvec.transform([review])\n",
    "    \n",
    "    # Make a prediction using the SVC model\n",
    "    sentiment = model.predict(review_tvec)\n",
    "    \n",
    "    # Return the predicted sentiment\n",
    "    if sentiment[0]:\n",
    "        return 'Positive'\n",
    "    return 'Negative'"
   ]
  },
  {
   "attachments": {},
   "cell_type": "markdown",
   "metadata": {},
   "source": [
    "### 3.1 Support Vector Classifier (SVC) Model"
   ]
  },
  {
   "cell_type": "code",
   "execution_count": 28,
   "metadata": {},
   "outputs": [
    {
     "data": {
      "text/html": [
       "<style>#sk-container-id-1 {color: black;background-color: white;}#sk-container-id-1 pre{padding: 0;}#sk-container-id-1 div.sk-toggleable {background-color: white;}#sk-container-id-1 label.sk-toggleable__label {cursor: pointer;display: block;width: 100%;margin-bottom: 0;padding: 0.3em;box-sizing: border-box;text-align: center;}#sk-container-id-1 label.sk-toggleable__label-arrow:before {content: \"▸\";float: left;margin-right: 0.25em;color: #696969;}#sk-container-id-1 label.sk-toggleable__label-arrow:hover:before {color: black;}#sk-container-id-1 div.sk-estimator:hover label.sk-toggleable__label-arrow:before {color: black;}#sk-container-id-1 div.sk-toggleable__content {max-height: 0;max-width: 0;overflow: hidden;text-align: left;background-color: #f0f8ff;}#sk-container-id-1 div.sk-toggleable__content pre {margin: 0.2em;color: black;border-radius: 0.25em;background-color: #f0f8ff;}#sk-container-id-1 input.sk-toggleable__control:checked~div.sk-toggleable__content {max-height: 200px;max-width: 100%;overflow: auto;}#sk-container-id-1 input.sk-toggleable__control:checked~label.sk-toggleable__label-arrow:before {content: \"▾\";}#sk-container-id-1 div.sk-estimator input.sk-toggleable__control:checked~label.sk-toggleable__label {background-color: #d4ebff;}#sk-container-id-1 div.sk-label input.sk-toggleable__control:checked~label.sk-toggleable__label {background-color: #d4ebff;}#sk-container-id-1 input.sk-hidden--visually {border: 0;clip: rect(1px 1px 1px 1px);clip: rect(1px, 1px, 1px, 1px);height: 1px;margin: -1px;overflow: hidden;padding: 0;position: absolute;width: 1px;}#sk-container-id-1 div.sk-estimator {font-family: monospace;background-color: #f0f8ff;border: 1px dotted black;border-radius: 0.25em;box-sizing: border-box;margin-bottom: 0.5em;}#sk-container-id-1 div.sk-estimator:hover {background-color: #d4ebff;}#sk-container-id-1 div.sk-parallel-item::after {content: \"\";width: 100%;border-bottom: 1px solid gray;flex-grow: 1;}#sk-container-id-1 div.sk-label:hover label.sk-toggleable__label {background-color: #d4ebff;}#sk-container-id-1 div.sk-serial::before {content: \"\";position: absolute;border-left: 1px solid gray;box-sizing: border-box;top: 0;bottom: 0;left: 50%;z-index: 0;}#sk-container-id-1 div.sk-serial {display: flex;flex-direction: column;align-items: center;background-color: white;padding-right: 0.2em;padding-left: 0.2em;position: relative;}#sk-container-id-1 div.sk-item {position: relative;z-index: 1;}#sk-container-id-1 div.sk-parallel {display: flex;align-items: stretch;justify-content: center;background-color: white;position: relative;}#sk-container-id-1 div.sk-item::before, #sk-container-id-1 div.sk-parallel-item::before {content: \"\";position: absolute;border-left: 1px solid gray;box-sizing: border-box;top: 0;bottom: 0;left: 50%;z-index: -1;}#sk-container-id-1 div.sk-parallel-item {display: flex;flex-direction: column;z-index: 1;position: relative;background-color: white;}#sk-container-id-1 div.sk-parallel-item:first-child::after {align-self: flex-end;width: 50%;}#sk-container-id-1 div.sk-parallel-item:last-child::after {align-self: flex-start;width: 50%;}#sk-container-id-1 div.sk-parallel-item:only-child::after {width: 0;}#sk-container-id-1 div.sk-dashed-wrapped {border: 1px dashed gray;margin: 0 0.4em 0.5em 0.4em;box-sizing: border-box;padding-bottom: 0.4em;background-color: white;}#sk-container-id-1 div.sk-label label {font-family: monospace;font-weight: bold;display: inline-block;line-height: 1.2em;}#sk-container-id-1 div.sk-label-container {text-align: center;}#sk-container-id-1 div.sk-container {/* jupyter's `normalize.less` sets `[hidden] { display: none; }` but bootstrap.min.css set `[hidden] { display: none !important; }` so we also need the `!important` here to be able to override the default hidden behavior on the sphinx rendered scikit-learn.org. See: https://github.com/scikit-learn/scikit-learn/issues/21755 */display: inline-block !important;position: relative;}#sk-container-id-1 div.sk-text-repr-fallback {display: none;}</style><div id=\"sk-container-id-1\" class=\"sk-top-container\"><div class=\"sk-text-repr-fallback\"><pre>LinearSVC(dual=False)</pre><b>In a Jupyter environment, please rerun this cell to show the HTML representation or trust the notebook. <br />On GitHub, the HTML representation is unable to render, please try loading this page with nbviewer.org.</b></div><div class=\"sk-container\" hidden><div class=\"sk-item\"><div class=\"sk-estimator sk-toggleable\"><input class=\"sk-toggleable__control sk-hidden--visually\" id=\"sk-estimator-id-1\" type=\"checkbox\" checked><label for=\"sk-estimator-id-1\" class=\"sk-toggleable__label sk-toggleable__label-arrow\">LinearSVC</label><div class=\"sk-toggleable__content\"><pre>LinearSVC(dual=False)</pre></div></div></div></div></div>"
      ],
      "text/plain": [
       "LinearSVC(dual=False)"
      ]
     },
     "execution_count": 28,
     "metadata": {},
     "output_type": "execute_result"
    }
   ],
   "source": [
    "#svc model\n",
    "svc_model = LinearSVC(multi_class='ovr',C=1.0,loss='squared_hinge', dual=False)\n",
    "svc_model.fit(X_train_tvec, y_train)"
   ]
  },
  {
   "cell_type": "code",
   "execution_count": 29,
   "metadata": {},
   "outputs": [],
   "source": [
    "# Predict using testing data and generate classification report\n",
    "svc_predictions, classification_report_svc_df = predict_generated_report(svc_model, y_test, X_test_tvec)"
   ]
  },
  {
   "cell_type": "code",
   "execution_count": 30,
   "metadata": {},
   "outputs": [
    {
     "data": {
      "text/html": [
       "<style type=\"text/css\">\n",
       "#T_81fc6_row0_col0, #T_81fc6_row0_col1, #T_81fc6_row0_col2, #T_81fc6_row2_col3 {\n",
       "  background-color: #f2f2dd;\n",
       "  color: #000000;\n",
       "}\n",
       "#T_81fc6_row0_col3 {\n",
       "  background-color: #f4f4b9;\n",
       "  color: #000000;\n",
       "}\n",
       "#T_81fc6_row1_col0, #T_81fc6_row1_col1, #T_81fc6_row1_col2, #T_81fc6_row3_col3, #T_81fc6_row4_col3 {\n",
       "  background-color: #ffff00;\n",
       "  color: #000000;\n",
       "}\n",
       "#T_81fc6_row1_col3 {\n",
       "  background-color: #fdfd24;\n",
       "  color: #000000;\n",
       "}\n",
       "#T_81fc6_row2_col0 {\n",
       "  background-color: #fdfd1c;\n",
       "  color: #000000;\n",
       "}\n",
       "#T_81fc6_row2_col1, #T_81fc6_row4_col1 {\n",
       "  background-color: #fdfd21;\n",
       "  color: #000000;\n",
       "}\n",
       "#T_81fc6_row2_col2 {\n",
       "  background-color: #fdfd22;\n",
       "  color: #000000;\n",
       "}\n",
       "#T_81fc6_row3_col0 {\n",
       "  background-color: #f8f86f;\n",
       "  color: #000000;\n",
       "}\n",
       "#T_81fc6_row3_col1 {\n",
       "  background-color: #f9f96c;\n",
       "  color: #000000;\n",
       "}\n",
       "#T_81fc6_row3_col2 {\n",
       "  background-color: #f9f96e;\n",
       "  color: #000000;\n",
       "}\n",
       "#T_81fc6_row4_col0 {\n",
       "  background-color: #fdfd2a;\n",
       "  color: #000000;\n",
       "}\n",
       "#T_81fc6_row4_col2 {\n",
       "  background-color: #fdfd2b;\n",
       "  color: #000000;\n",
       "}\n",
       "</style>\n",
       "<table id=\"T_81fc6\">\n",
       "  <thead>\n",
       "    <tr>\n",
       "      <th class=\"blank level0\" >&nbsp;</th>\n",
       "      <th id=\"T_81fc6_level0_col0\" class=\"col_heading level0 col0\" >precision</th>\n",
       "      <th id=\"T_81fc6_level0_col1\" class=\"col_heading level0 col1\" >recall</th>\n",
       "      <th id=\"T_81fc6_level0_col2\" class=\"col_heading level0 col2\" >f1-score</th>\n",
       "      <th id=\"T_81fc6_level0_col3\" class=\"col_heading level0 col3\" >support</th>\n",
       "    </tr>\n",
       "  </thead>\n",
       "  <tbody>\n",
       "    <tr>\n",
       "      <th id=\"T_81fc6_level0_row0\" class=\"row_heading level0 row0\" >0</th>\n",
       "      <td id=\"T_81fc6_row0_col0\" class=\"data row0 col0\" >0.770000</td>\n",
       "      <td id=\"T_81fc6_row0_col1\" class=\"data row0 col1\" >0.630000</td>\n",
       "      <td id=\"T_81fc6_row0_col2\" class=\"data row0 col2\" >0.690000</td>\n",
       "      <td id=\"T_81fc6_row0_col3\" class=\"data row0 col3\" >1018.000000</td>\n",
       "    </tr>\n",
       "    <tr>\n",
       "      <th id=\"T_81fc6_level0_row1\" class=\"row_heading level0 row1\" >1</th>\n",
       "      <td id=\"T_81fc6_row1_col0\" class=\"data row1 col0\" >0.930000</td>\n",
       "      <td id=\"T_81fc6_row1_col1\" class=\"data row1 col1\" >0.960000</td>\n",
       "      <td id=\"T_81fc6_row1_col2\" class=\"data row1 col2\" >0.950000</td>\n",
       "      <td id=\"T_81fc6_row1_col3\" class=\"data row1 col3\" >5152.000000</td>\n",
       "    </tr>\n",
       "    <tr>\n",
       "      <th id=\"T_81fc6_level0_row2\" class=\"row_heading level0 row2\" >accuracy</th>\n",
       "      <td id=\"T_81fc6_row2_col0\" class=\"data row2 col0\" >0.910000</td>\n",
       "      <td id=\"T_81fc6_row2_col1\" class=\"data row2 col1\" >0.910000</td>\n",
       "      <td id=\"T_81fc6_row2_col2\" class=\"data row2 col2\" >0.910000</td>\n",
       "      <td id=\"T_81fc6_row2_col3\" class=\"data row2 col3\" >0.910000</td>\n",
       "    </tr>\n",
       "    <tr>\n",
       "      <th id=\"T_81fc6_level0_row3\" class=\"row_heading level0 row3\" >macro avg</th>\n",
       "      <td id=\"T_81fc6_row3_col0\" class=\"data row3 col0\" >0.850000</td>\n",
       "      <td id=\"T_81fc6_row3_col1\" class=\"data row3 col1\" >0.800000</td>\n",
       "      <td id=\"T_81fc6_row3_col2\" class=\"data row3 col2\" >0.820000</td>\n",
       "      <td id=\"T_81fc6_row3_col3\" class=\"data row3 col3\" >6170.000000</td>\n",
       "    </tr>\n",
       "    <tr>\n",
       "      <th id=\"T_81fc6_level0_row4\" class=\"row_heading level0 row4\" >weighted avg</th>\n",
       "      <td id=\"T_81fc6_row4_col0\" class=\"data row4 col0\" >0.900000</td>\n",
       "      <td id=\"T_81fc6_row4_col1\" class=\"data row4 col1\" >0.910000</td>\n",
       "      <td id=\"T_81fc6_row4_col2\" class=\"data row4 col2\" >0.900000</td>\n",
       "      <td id=\"T_81fc6_row4_col3\" class=\"data row4 col3\" >6170.000000</td>\n",
       "    </tr>\n",
       "  </tbody>\n",
       "</table>\n"
      ],
      "text/plain": [
       "<pandas.io.formats.style.Styler at 0x202d9ce2d50>"
      ]
     },
     "execution_count": 30,
     "metadata": {},
     "output_type": "execute_result"
    }
   ],
   "source": [
    "# display classification report\n",
    "display_classification_report(\"yellow\", classification_report_svc_df)"
   ]
  },
  {
   "cell_type": "code",
   "execution_count": 31,
   "metadata": {},
   "outputs": [
    {
     "data": {
      "image/png": "[encoded data removed]",
      "text/plain": [
       "<Figure size 600x600 with 1 Axes>"
      ]
     },
     "metadata": {},
     "output_type": "display_data"
    }
   ],
   "source": [
    "# Plot confusion matrix\n",
    "cm = confusion_matrix(y_test, svc_predictions)\n",
    "plt.figure(figsize=(6, 6))\n",
    "sns.heatmap(cm, annot=True, fmt='g', cmap='Greens', cbar=False)\n",
    "plt.xlabel('Predicted Sentiment')\n",
    "plt.ylabel('True Sentiment')\n",
    "plt.title('Sentiment Analysis Confusion Matrix')\n",
    "plt.xticks([0.5, 1.5], ['Negative', 'Positive'])\n",
    "plt.yticks([0.5, 1.5], ['Negative', 'Positive'])\n",
    "plt.show()"
   ]
  },
  {
   "attachments": {},
   "cell_type": "markdown",
   "metadata": {},
   "source": [
    "Based on the classification report:\n",
    "\n",
    "- For class 0 (negative sentiment), the precision is 0.77, recall is 0.63, and F1-score is 0.69. This suggests that the classifier performs reasonably well in identifying negative sentiment, but there is room for improvement.\n",
    "- For class 1 (positive sentiment), the precision is 0.93, recall is 0.96, and F1-score is 0.95. These metrics indicate that the classifier is performing very well in identifying positive sentiment.\n",
    "- The accuracy of the classifier is 0.91, which is the overall percentage of correct predictions on the test data.\n",
    "\n",
    "The confusion matrix provides a more detailed breakdown of the classifier's predictions:\n",
    "\n",
    "- True Negative (TN): 644 instances were correctly predicted as negative sentiment.\n",
    "- False Positive (FP): 374 instances were incorrectly predicted as positive sentiment.\n",
    "- False Negative (FN): 193 instances were incorrectly predicted as negative sentiment.\n",
    "- True Positive (TP): 4959 instances were correctly predicted as positive sentiment.\n",
    "\n",
    "The confusion matrix helps in evaluating the classifier's performance and understanding the types of errors it makes."
   ]
  },
  {
   "attachments": {},
   "cell_type": "markdown",
   "metadata": {},
   "source": [
    "#### Test SVC Model"
   ]
  },
  {
   "cell_type": "code",
   "execution_count": 32,
   "metadata": {},
   "outputs": [
    {
     "name": "stdout",
     "output_type": "stream",
     "text": [
      "Predicted Sentiment: Negative\n"
     ]
    }
   ],
   "source": [
    "# Test the model with a sample Negative review\n",
    "demo_review = 'Three days of use and it broke. Very disappointed in this product. It worked perfectly for exactly three days and could not be resuscitated. \\\n",
    "               It was very inexpensive, so I did not want to pay half again the price to ship it back for an exchange. \\\n",
    "               The company would do nothing when they sent me an inquiry as to product satisfaction.'\n",
    "\n",
    "predicted_sentiment = predict_sentiment(svc_model, demo_review)\n",
    "print(\"Predicted Sentiment:\", predicted_sentiment)"
   ]
  },
  {
   "cell_type": "code",
   "execution_count": 33,
   "metadata": {},
   "outputs": [
    {
     "name": "stdout",
     "output_type": "stream",
     "text": [
      "Predicted Sentiment: Positive\n"
     ]
    }
   ],
   "source": [
    "demo_review_2 = \"Excellent product. Works well and performs as expected. I would recommend this product to anyone looking for a tablet.\"\n",
    "predicted_sentiment_2 = predict_sentiment(svc_model, demo_review_2)\n",
    "print(\"Predicted Sentiment:\", predicted_sentiment_2)"
   ]
  },
  {
   "attachments": {},
   "cell_type": "markdown",
   "metadata": {},
   "source": [
    "### 3.2 Random Forest Model"
   ]
  },
  {
   "cell_type": "code",
   "execution_count": 34,
   "metadata": {},
   "outputs": [
    {
     "data": {
      "text/html": [
       "<style>#sk-container-id-2 {color: black;background-color: white;}#sk-container-id-2 pre{padding: 0;}#sk-container-id-2 div.sk-toggleable {background-color: white;}#sk-container-id-2 label.sk-toggleable__label {cursor: pointer;display: block;width: 100%;margin-bottom: 0;padding: 0.3em;box-sizing: border-box;text-align: center;}#sk-container-id-2 label.sk-toggleable__label-arrow:before {content: \"▸\";float: left;margin-right: 0.25em;color: #696969;}#sk-container-id-2 label.sk-toggleable__label-arrow:hover:before {color: black;}#sk-container-id-2 div.sk-estimator:hover label.sk-toggleable__label-arrow:before {color: black;}#sk-container-id-2 div.sk-toggleable__content {max-height: 0;max-width: 0;overflow: hidden;text-align: left;background-color: #f0f8ff;}#sk-container-id-2 div.sk-toggleable__content pre {margin: 0.2em;color: black;border-radius: 0.25em;background-color: #f0f8ff;}#sk-container-id-2 input.sk-toggleable__control:checked~div.sk-toggleable__content {max-height: 200px;max-width: 100%;overflow: auto;}#sk-container-id-2 input.sk-toggleable__control:checked~label.sk-toggleable__label-arrow:before {content: \"▾\";}#sk-container-id-2 div.sk-estimator input.sk-toggleable__control:checked~label.sk-toggleable__label {background-color: #d4ebff;}#sk-container-id-2 div.sk-label input.sk-toggleable__control:checked~label.sk-toggleable__label {background-color: #d4ebff;}#sk-container-id-2 input.sk-hidden--visually {border: 0;clip: rect(1px 1px 1px 1px);clip: rect(1px, 1px, 1px, 1px);height: 1px;margin: -1px;overflow: hidden;padding: 0;position: absolute;width: 1px;}#sk-container-id-2 div.sk-estimator {font-family: monospace;background-color: #f0f8ff;border: 1px dotted black;border-radius: 0.25em;box-sizing: border-box;margin-bottom: 0.5em;}#sk-container-id-2 div.sk-estimator:hover {background-color: #d4ebff;}#sk-container-id-2 div.sk-parallel-item::after {content: \"\";width: 100%;border-bottom: 1px solid gray;flex-grow: 1;}#sk-container-id-2 div.sk-label:hover label.sk-toggleable__label {background-color: #d4ebff;}#sk-container-id-2 div.sk-serial::before {content: \"\";position: absolute;border-left: 1px solid gray;box-sizing: border-box;top: 0;bottom: 0;left: 50%;z-index: 0;}#sk-container-id-2 div.sk-serial {display: flex;flex-direction: column;align-items: center;background-color: white;padding-right: 0.2em;padding-left: 0.2em;position: relative;}#sk-container-id-2 div.sk-item {position: relative;z-index: 1;}#sk-container-id-2 div.sk-parallel {display: flex;align-items: stretch;justify-content: center;background-color: white;position: relative;}#sk-container-id-2 div.sk-item::before, #sk-container-id-2 div.sk-parallel-item::before {content: \"\";position: absolute;border-left: 1px solid gray;box-sizing: border-box;top: 0;bottom: 0;left: 50%;z-index: -1;}#sk-container-id-2 div.sk-parallel-item {display: flex;flex-direction: column;z-index: 1;position: relative;background-color: white;}#sk-container-id-2 div.sk-parallel-item:first-child::after {align-self: flex-end;width: 50%;}#sk-container-id-2 div.sk-parallel-item:last-child::after {align-self: flex-start;width: 50%;}#sk-container-id-2 div.sk-parallel-item:only-child::after {width: 0;}#sk-container-id-2 div.sk-dashed-wrapped {border: 1px dashed gray;margin: 0 0.4em 0.5em 0.4em;box-sizing: border-box;padding-bottom: 0.4em;background-color: white;}#sk-container-id-2 div.sk-label label {font-family: monospace;font-weight: bold;display: inline-block;line-height: 1.2em;}#sk-container-id-2 div.sk-label-container {text-align: center;}#sk-container-id-2 div.sk-container {/* jupyter's `normalize.less` sets `[hidden] { display: none; }` but bootstrap.min.css set `[hidden] { display: none !important; }` so we also need the `!important` here to be able to override the default hidden behavior on the sphinx rendered scikit-learn.org. See: https://github.com/scikit-learn/scikit-learn/issues/21755 */display: inline-block !important;position: relative;}#sk-container-id-2 div.sk-text-repr-fallback {display: none;}</style><div id=\"sk-container-id-2\" class=\"sk-top-container\"><div class=\"sk-text-repr-fallback\"><pre>RandomForestClassifier()</pre><b>In a Jupyter environment, please rerun this cell to show the HTML representation or trust the notebook. <br />On GitHub, the HTML representation is unable to render, please try loading this page with nbviewer.org.</b></div><div class=\"sk-container\" hidden><div class=\"sk-item\"><div class=\"sk-estimator sk-toggleable\"><input class=\"sk-toggleable__control sk-hidden--visually\" id=\"sk-estimator-id-2\" type=\"checkbox\" checked><label for=\"sk-estimator-id-2\" class=\"sk-toggleable__label sk-toggleable__label-arrow\">RandomForestClassifier</label><div class=\"sk-toggleable__content\"><pre>RandomForestClassifier()</pre></div></div></div></div></div>"
      ],
      "text/plain": [
       "RandomForestClassifier()"
      ]
     },
     "execution_count": 34,
     "metadata": {},
     "output_type": "execute_result"
    }
   ],
   "source": [
    "# Random Forest model\n",
    "random_forest_model = RandomForestClassifier()\n",
    "random_forest_model.fit(X_train_tvec, y_train)"
   ]
  },
  {
   "cell_type": "code",
   "execution_count": 35,
   "metadata": {},
   "outputs": [],
   "source": [
    "# Predict using testing data and generate classification report\n",
    "predictions, classification_report_df = predict_generated_report(random_forest_model, y_test, X_test_tvec)"
   ]
  },
  {
   "cell_type": "code",
   "execution_count": 36,
   "metadata": {},
   "outputs": [
    {
     "data": {
      "text/html": [
       "<style type=\"text/css\">\n",
       "#T_f2c8e_row0_col0, #T_f2c8e_row0_col1, #T_f2c8e_row0_col2, #T_f2c8e_row2_col3 {\n",
       "  background-color: #f3f0f0;\n",
       "  color: #000000;\n",
       "}\n",
       "#T_f2c8e_row0_col3 {\n",
       "  background-color: #f5c8c8;\n",
       "  color: #000000;\n",
       "}\n",
       "#T_f2c8e_row1_col0, #T_f2c8e_row1_col1, #T_f2c8e_row1_col2, #T_f2c8e_row3_col3, #T_f2c8e_row4_col3 {\n",
       "  background-color: #ff0000;\n",
       "  color: #f1f1f1;\n",
       "}\n",
       "#T_f2c8e_row1_col3, #T_f2c8e_row2_col1, #T_f2c8e_row4_col1 {\n",
       "  background-color: #fd2828;\n",
       "  color: #f1f1f1;\n",
       "}\n",
       "#T_f2c8e_row2_col0, #T_f2c8e_row4_col0 {\n",
       "  background-color: #fd3030;\n",
       "  color: #f1f1f1;\n",
       "}\n",
       "#T_f2c8e_row2_col2 {\n",
       "  background-color: #fe1c1c;\n",
       "  color: #f1f1f1;\n",
       "}\n",
       "#T_f2c8e_row3_col0 {\n",
       "  background-color: #fa6060;\n",
       "  color: #f1f1f1;\n",
       "}\n",
       "#T_f2c8e_row3_col1, #T_f2c8e_row3_col2 {\n",
       "  background-color: #f97878;\n",
       "  color: #f1f1f1;\n",
       "}\n",
       "#T_f2c8e_row4_col2 {\n",
       "  background-color: #fd2626;\n",
       "  color: #f1f1f1;\n",
       "}\n",
       "</style>\n",
       "<table id=\"T_f2c8e\">\n",
       "  <thead>\n",
       "    <tr>\n",
       "      <th class=\"blank level0\" >&nbsp;</th>\n",
       "      <th id=\"T_f2c8e_level0_col0\" class=\"col_heading level0 col0\" >precision</th>\n",
       "      <th id=\"T_f2c8e_level0_col1\" class=\"col_heading level0 col1\" >recall</th>\n",
       "      <th id=\"T_f2c8e_level0_col2\" class=\"col_heading level0 col2\" >f1-score</th>\n",
       "      <th id=\"T_f2c8e_level0_col3\" class=\"col_heading level0 col3\" >support</th>\n",
       "    </tr>\n",
       "  </thead>\n",
       "  <tbody>\n",
       "    <tr>\n",
       "      <th id=\"T_f2c8e_level0_row0\" class=\"row_heading level0 row0\" >0</th>\n",
       "      <td id=\"T_f2c8e_row0_col0\" class=\"data row0 col0\" >0.830000</td>\n",
       "      <td id=\"T_f2c8e_row0_col1\" class=\"data row0 col1\" >0.290000</td>\n",
       "      <td id=\"T_f2c8e_row0_col2\" class=\"data row0 col2\" >0.430000</td>\n",
       "      <td id=\"T_f2c8e_row0_col3\" class=\"data row0 col3\" >1018.000000</td>\n",
       "    </tr>\n",
       "    <tr>\n",
       "      <th id=\"T_f2c8e_level0_row1\" class=\"row_heading level0 row1\" >1</th>\n",
       "      <td id=\"T_f2c8e_row1_col0\" class=\"data row1 col0\" >0.880000</td>\n",
       "      <td id=\"T_f2c8e_row1_col1\" class=\"data row1 col1\" >0.990000</td>\n",
       "      <td id=\"T_f2c8e_row1_col2\" class=\"data row1 col2\" >0.930000</td>\n",
       "      <td id=\"T_f2c8e_row1_col3\" class=\"data row1 col3\" >5152.000000</td>\n",
       "    </tr>\n",
       "    <tr>\n",
       "      <th id=\"T_f2c8e_level0_row2\" class=\"row_heading level0 row2\" >accuracy</th>\n",
       "      <td id=\"T_f2c8e_row2_col0\" class=\"data row2 col0\" >0.870000</td>\n",
       "      <td id=\"T_f2c8e_row2_col1\" class=\"data row2 col1\" >0.870000</td>\n",
       "      <td id=\"T_f2c8e_row2_col2\" class=\"data row2 col2\" >0.870000</td>\n",
       "      <td id=\"T_f2c8e_row2_col3\" class=\"data row2 col3\" >0.870000</td>\n",
       "    </tr>\n",
       "    <tr>\n",
       "      <th id=\"T_f2c8e_level0_row3\" class=\"row_heading level0 row3\" >macro avg</th>\n",
       "      <td id=\"T_f2c8e_row3_col0\" class=\"data row3 col0\" >0.860000</td>\n",
       "      <td id=\"T_f2c8e_row3_col1\" class=\"data row3 col1\" >0.640000</td>\n",
       "      <td id=\"T_f2c8e_row3_col2\" class=\"data row3 col2\" >0.680000</td>\n",
       "      <td id=\"T_f2c8e_row3_col3\" class=\"data row3 col3\" >6170.000000</td>\n",
       "    </tr>\n",
       "    <tr>\n",
       "      <th id=\"T_f2c8e_level0_row4\" class=\"row_heading level0 row4\" >weighted avg</th>\n",
       "      <td id=\"T_f2c8e_row4_col0\" class=\"data row4 col0\" >0.870000</td>\n",
       "      <td id=\"T_f2c8e_row4_col1\" class=\"data row4 col1\" >0.870000</td>\n",
       "      <td id=\"T_f2c8e_row4_col2\" class=\"data row4 col2\" >0.850000</td>\n",
       "      <td id=\"T_f2c8e_row4_col3\" class=\"data row4 col3\" >6170.000000</td>\n",
       "    </tr>\n",
       "  </tbody>\n",
       "</table>\n"
      ],
      "text/plain": [
       "<pandas.io.formats.style.Styler at 0x202d7b12910>"
      ]
     },
     "execution_count": 36,
     "metadata": {},
     "output_type": "execute_result"
    }
   ],
   "source": [
    "# display the classification report\n",
    "display_classification_report(\"red\", classification_report_df)"
   ]
  },
  {
   "cell_type": "code",
   "execution_count": 37,
   "metadata": {},
   "outputs": [
    {
     "name": "stdout",
     "output_type": "stream",
     "text": [
      "[[ 293  725]\n",
      " [  58 5094]]\n"
     ]
    },
    {
     "data": {
      "image/png": "[encoded data removed]",
      "text/plain": [
       "<Figure size 640x480 with 2 Axes>"
      ]
     },
     "metadata": {},
     "output_type": "display_data"
    }
   ],
   "source": [
    "# confusion matrix\n",
    "plot_confusition_matrix(\"Reds\", y_test, predictions)"
   ]
  },
  {
   "attachments": {},
   "cell_type": "markdown",
   "metadata": {},
   "source": [
    "Here's the analysis for the Random Forest Model\n",
    "\n",
    "Precision:\n",
    "\n",
    "- For the \"Negative\" class (0), the precision is 0.84, indicating that 84% of the predicted \"Negative\" reviews are actually negative.\n",
    "- For the \"Positive\" class (1), the precision is 0.88, meaning that 88% of the predicted \"Positive\" reviews are actually positive.\n",
    "\n",
    "Recall:\n",
    "\n",
    "- For the \"Negative\" class (0), the recall is 0.29, indicating that only 29% of the actual negative reviews are correctly identified as negative.\n",
    "- For the \"Positive\" class (1), the recall is 0.99, meaning that 99% of the actual positive reviews are correctly identified as positive.\n",
    "\n",
    "F1-score:\n",
    "\n",
    "- For the \"Negative\" class (0), the F1-score is 0.43, which is the harmonic mean of precision and recall for the negative class.\n",
    "- For the \"Positive\" class (1), the F1-score is 0.93, representing the harmonic mean of precision and recall for the positive class.\n",
    "\n",
    "Support:\n",
    "\n",
    "- The \"Negative\" class has a support of 1018, indicating the number of samples in the testing data classified as negative.\n",
    "- The \"Positive\" class has a support of 5152, representing the number of samples classified as positive.\n",
    "\n",
    "Accuracy:\n",
    "\n",
    "- The overall accuracy of the model is 0.87, indicating that 87% of the reviews in the testing data are correctly classified.\n",
    "\n",
    "Confusion Matrix:\n",
    "\n",
    "- The confusion matrix shows the counts of true positive, false positive, true negative, and false negative predictions.\n",
    "- In this case, there are 299 true negative predictions, 719 false positive predictions, 58 false negative predictions, and 5094 true positive predictions."
   ]
  },
  {
   "attachments": {},
   "cell_type": "markdown",
   "metadata": {},
   "source": [
    "#### Test Random Forest Model"
   ]
  },
  {
   "cell_type": "code",
   "execution_count": 38,
   "metadata": {},
   "outputs": [
    {
     "name": "stdout",
     "output_type": "stream",
     "text": [
      "Predicted Sentiment: Positive\n"
     ]
    }
   ],
   "source": [
    "# testing the random forest model with negative review\n",
    "demo_review = 'Do not buy. Fake Product.'\n",
    "predicted_sentiment = predict_sentiment(random_forest_model,  demo_review)\n",
    "print(\"Predicted Sentiment:\", predicted_sentiment)"
   ]
  },
  {
   "cell_type": "code",
   "execution_count": 39,
   "metadata": {},
   "outputs": [
    {
     "name": "stdout",
     "output_type": "stream",
     "text": [
      "Predicted Sentiment: Positive\n"
     ]
    }
   ],
   "source": [
    "# testing the random forest model with positive review\n",
    "demo_review = 'Original Product. Great Performance.'\n",
    "predicted_sentiment = predict_sentiment(random_forest_model,  demo_review)\n",
    "print(\"Predicted Sentiment:\", predicted_sentiment)"
   ]
  },
  {
   "attachments": {},
   "cell_type": "markdown",
   "metadata": {},
   "source": [
    "### 3.3 K-Nearest Model"
   ]
  },
  {
   "cell_type": "code",
   "execution_count": 40,
   "metadata": {},
   "outputs": [
    {
     "data": {
      "text/html": [
       "<style>#sk-container-id-3 {color: black;background-color: white;}#sk-container-id-3 pre{padding: 0;}#sk-container-id-3 div.sk-toggleable {background-color: white;}#sk-container-id-3 label.sk-toggleable__label {cursor: pointer;display: block;width: 100%;margin-bottom: 0;padding: 0.3em;box-sizing: border-box;text-align: center;}#sk-container-id-3 label.sk-toggleable__label-arrow:before {content: \"▸\";float: left;margin-right: 0.25em;color: #696969;}#sk-container-id-3 label.sk-toggleable__label-arrow:hover:before {color: black;}#sk-container-id-3 div.sk-estimator:hover label.sk-toggleable__label-arrow:before {color: black;}#sk-container-id-3 div.sk-toggleable__content {max-height: 0;max-width: 0;overflow: hidden;text-align: left;background-color: #f0f8ff;}#sk-container-id-3 div.sk-toggleable__content pre {margin: 0.2em;color: black;border-radius: 0.25em;background-color: #f0f8ff;}#sk-container-id-3 input.sk-toggleable__control:checked~div.sk-toggleable__content {max-height: 200px;max-width: 100%;overflow: auto;}#sk-container-id-3 input.sk-toggleable__control:checked~label.sk-toggleable__label-arrow:before {content: \"▾\";}#sk-container-id-3 div.sk-estimator input.sk-toggleable__control:checked~label.sk-toggleable__label {background-color: #d4ebff;}#sk-container-id-3 div.sk-label input.sk-toggleable__control:checked~label.sk-toggleable__label {background-color: #d4ebff;}#sk-container-id-3 input.sk-hidden--visually {border: 0;clip: rect(1px 1px 1px 1px);clip: rect(1px, 1px, 1px, 1px);height: 1px;margin: -1px;overflow: hidden;padding: 0;position: absolute;width: 1px;}#sk-container-id-3 div.sk-estimator {font-family: monospace;background-color: #f0f8ff;border: 1px dotted black;border-radius: 0.25em;box-sizing: border-box;margin-bottom: 0.5em;}#sk-container-id-3 div.sk-estimator:hover {background-color: #d4ebff;}#sk-container-id-3 div.sk-parallel-item::after {content: \"\";width: 100%;border-bottom: 1px solid gray;flex-grow: 1;}#sk-container-id-3 div.sk-label:hover label.sk-toggleable__label {background-color: #d4ebff;}#sk-container-id-3 div.sk-serial::before {content: \"\";position: absolute;border-left: 1px solid gray;box-sizing: border-box;top: 0;bottom: 0;left: 50%;z-index: 0;}#sk-container-id-3 div.sk-serial {display: flex;flex-direction: column;align-items: center;background-color: white;padding-right: 0.2em;padding-left: 0.2em;position: relative;}#sk-container-id-3 div.sk-item {position: relative;z-index: 1;}#sk-container-id-3 div.sk-parallel {display: flex;align-items: stretch;justify-content: center;background-color: white;position: relative;}#sk-container-id-3 div.sk-item::before, #sk-container-id-3 div.sk-parallel-item::before {content: \"\";position: absolute;border-left: 1px solid gray;box-sizing: border-box;top: 0;bottom: 0;left: 50%;z-index: -1;}#sk-container-id-3 div.sk-parallel-item {display: flex;flex-direction: column;z-index: 1;position: relative;background-color: white;}#sk-container-id-3 div.sk-parallel-item:first-child::after {align-self: flex-end;width: 50%;}#sk-container-id-3 div.sk-parallel-item:last-child::after {align-self: flex-start;width: 50%;}#sk-container-id-3 div.sk-parallel-item:only-child::after {width: 0;}#sk-container-id-3 div.sk-dashed-wrapped {border: 1px dashed gray;margin: 0 0.4em 0.5em 0.4em;box-sizing: border-box;padding-bottom: 0.4em;background-color: white;}#sk-container-id-3 div.sk-label label {font-family: monospace;font-weight: bold;display: inline-block;line-height: 1.2em;}#sk-container-id-3 div.sk-label-container {text-align: center;}#sk-container-id-3 div.sk-container {/* jupyter's `normalize.less` sets `[hidden] { display: none; }` but bootstrap.min.css set `[hidden] { display: none !important; }` so we also need the `!important` here to be able to override the default hidden behavior on the sphinx rendered scikit-learn.org. See: https://github.com/scikit-learn/scikit-learn/issues/21755 */display: inline-block !important;position: relative;}#sk-container-id-3 div.sk-text-repr-fallback {display: none;}</style><div id=\"sk-container-id-3\" class=\"sk-top-container\"><div class=\"sk-text-repr-fallback\"><pre>KNeighborsClassifier()</pre><b>In a Jupyter environment, please rerun this cell to show the HTML representation or trust the notebook. <br />On GitHub, the HTML representation is unable to render, please try loading this page with nbviewer.org.</b></div><div class=\"sk-container\" hidden><div class=\"sk-item\"><div class=\"sk-estimator sk-toggleable\"><input class=\"sk-toggleable__control sk-hidden--visually\" id=\"sk-estimator-id-3\" type=\"checkbox\" checked><label for=\"sk-estimator-id-3\" class=\"sk-toggleable__label sk-toggleable__label-arrow\">KNeighborsClassifier</label><div class=\"sk-toggleable__content\"><pre>KNeighborsClassifier()</pre></div></div></div></div></div>"
      ],
      "text/plain": [
       "KNeighborsClassifier()"
      ]
     },
     "execution_count": 40,
     "metadata": {},
     "output_type": "execute_result"
    }
   ],
   "source": [
    "# K-Nearest Neighbor model\n",
    "knn_model = KNeighborsClassifier(n_neighbors=5,metric='minkowski',p=2)\n",
    "knn_model.fit(X_train_tvec, y_train)"
   ]
  },
  {
   "cell_type": "code",
   "execution_count": 41,
   "metadata": {},
   "outputs": [],
   "source": [
    "# predict using testing data and generate classification report\n",
    "knn_predictions, classification_report_df = predict_generated_report(knn_model, y_test, X_test_tvec)"
   ]
  },
  {
   "cell_type": "code",
   "execution_count": 42,
   "metadata": {},
   "outputs": [
    {
     "data": {
      "text/html": [
       "<style type=\"text/css\">\n",
       "#T_f53b1_row0_col0, #T_f53b1_row0_col1, #T_f53b1_row0_col2, #T_f53b1_row2_col3 {\n",
       "  background-color: #f0f0f3;\n",
       "  color: #000000;\n",
       "}\n",
       "#T_f53b1_row0_col3 {\n",
       "  background-color: #c9c9f5;\n",
       "  color: #000000;\n",
       "}\n",
       "#T_f53b1_row1_col0, #T_f53b1_row1_col1, #T_f53b1_row1_col2, #T_f53b1_row2_col0, #T_f53b1_row3_col3, #T_f53b1_row4_col3 {\n",
       "  background-color: #0000ff;\n",
       "  color: #f1f1f1;\n",
       "}\n",
       "#T_f53b1_row1_col3, #T_f53b1_row2_col1, #T_f53b1_row4_col1, #T_f53b1_row4_col2 {\n",
       "  background-color: #2828fd;\n",
       "  color: #f1f1f1;\n",
       "}\n",
       "#T_f53b1_row2_col2 {\n",
       "  background-color: #1414fe;\n",
       "  color: #f1f1f1;\n",
       "}\n",
       "#T_f53b1_row3_col0 {\n",
       "  background-color: #7878f9;\n",
       "  color: #f1f1f1;\n",
       "}\n",
       "#T_f53b1_row3_col1 {\n",
       "  background-color: #7a7af9;\n",
       "  color: #f1f1f1;\n",
       "}\n",
       "#T_f53b1_row3_col2 {\n",
       "  background-color: #7777f9;\n",
       "  color: #f1f1f1;\n",
       "}\n",
       "#T_f53b1_row4_col0 {\n",
       "  background-color: #3030fd;\n",
       "  color: #f1f1f1;\n",
       "}\n",
       "</style>\n",
       "<table id=\"T_f53b1\">\n",
       "  <thead>\n",
       "    <tr>\n",
       "      <th class=\"blank level0\" >&nbsp;</th>\n",
       "      <th id=\"T_f53b1_level0_col0\" class=\"col_heading level0 col0\" >precision</th>\n",
       "      <th id=\"T_f53b1_level0_col1\" class=\"col_heading level0 col1\" >recall</th>\n",
       "      <th id=\"T_f53b1_level0_col2\" class=\"col_heading level0 col2\" >f1-score</th>\n",
       "      <th id=\"T_f53b1_level0_col3\" class=\"col_heading level0 col3\" >support</th>\n",
       "    </tr>\n",
       "  </thead>\n",
       "  <tbody>\n",
       "    <tr>\n",
       "      <th id=\"T_f53b1_level0_row0\" class=\"row_heading level0 row0\" >0</th>\n",
       "      <td id=\"T_f53b1_row0_col0\" class=\"data row0 col0\" >0.740000</td>\n",
       "      <td id=\"T_f53b1_row0_col1\" class=\"data row0 col1\" >0.030000</td>\n",
       "      <td id=\"T_f53b1_row0_col2\" class=\"data row0 col2\" >0.060000</td>\n",
       "      <td id=\"T_f53b1_row0_col3\" class=\"data row0 col3\" >1018.000000</td>\n",
       "    </tr>\n",
       "    <tr>\n",
       "      <th id=\"T_f53b1_level0_row1\" class=\"row_heading level0 row1\" >1</th>\n",
       "      <td id=\"T_f53b1_row1_col0\" class=\"data row1 col0\" >0.840000</td>\n",
       "      <td id=\"T_f53b1_row1_col1\" class=\"data row1 col1\" >1.000000</td>\n",
       "      <td id=\"T_f53b1_row1_col2\" class=\"data row1 col2\" >0.910000</td>\n",
       "      <td id=\"T_f53b1_row1_col3\" class=\"data row1 col3\" >5152.000000</td>\n",
       "    </tr>\n",
       "    <tr>\n",
       "      <th id=\"T_f53b1_level0_row2\" class=\"row_heading level0 row2\" >accuracy</th>\n",
       "      <td id=\"T_f53b1_row2_col0\" class=\"data row2 col0\" >0.840000</td>\n",
       "      <td id=\"T_f53b1_row2_col1\" class=\"data row2 col1\" >0.840000</td>\n",
       "      <td id=\"T_f53b1_row2_col2\" class=\"data row2 col2\" >0.840000</td>\n",
       "      <td id=\"T_f53b1_row2_col3\" class=\"data row2 col3\" >0.840000</td>\n",
       "    </tr>\n",
       "    <tr>\n",
       "      <th id=\"T_f53b1_level0_row3\" class=\"row_heading level0 row3\" >macro avg</th>\n",
       "      <td id=\"T_f53b1_row3_col0\" class=\"data row3 col0\" >0.790000</td>\n",
       "      <td id=\"T_f53b1_row3_col1\" class=\"data row3 col1\" >0.510000</td>\n",
       "      <td id=\"T_f53b1_row3_col2\" class=\"data row3 col2\" >0.490000</td>\n",
       "      <td id=\"T_f53b1_row3_col3\" class=\"data row3 col3\" >6170.000000</td>\n",
       "    </tr>\n",
       "    <tr>\n",
       "      <th id=\"T_f53b1_level0_row4\" class=\"row_heading level0 row4\" >weighted avg</th>\n",
       "      <td id=\"T_f53b1_row4_col0\" class=\"data row4 col0\" >0.820000</td>\n",
       "      <td id=\"T_f53b1_row4_col1\" class=\"data row4 col1\" >0.840000</td>\n",
       "      <td id=\"T_f53b1_row4_col2\" class=\"data row4 col2\" >0.770000</td>\n",
       "      <td id=\"T_f53b1_row4_col3\" class=\"data row4 col3\" >6170.000000</td>\n",
       "    </tr>\n",
       "  </tbody>\n",
       "</table>\n"
      ],
      "text/plain": [
       "<pandas.io.formats.style.Styler at 0x202da11d450>"
      ]
     },
     "execution_count": 42,
     "metadata": {},
     "output_type": "execute_result"
    }
   ],
   "source": [
    "# display the classification report\n",
    "display_classification_report(\"blue\", classification_report_df)"
   ]
  },
  {
   "cell_type": "code",
   "execution_count": 43,
   "metadata": {},
   "outputs": [
    {
     "name": "stdout",
     "output_type": "stream",
     "text": [
      "[[  32  986]\n",
      " [  11 5141]]\n"
     ]
    },
    {
     "data": {
      "image/png": "[encoded data removed]",
      "text/plain": [
       "<Figure size 640x480 with 2 Axes>"
      ]
     },
     "metadata": {},
     "output_type": "display_data"
    }
   ],
   "source": [
    "# display the confusion matrix\n",
    "plot_confusition_matrix(\"Blues\", y_test, knn_predictions)"
   ]
  },
  {
   "attachments": {},
   "cell_type": "markdown",
   "metadata": {},
   "source": [
    "The K-Nearest Neighbor (KNN) model's performance on the test data is as follows:\n",
    "\n",
    "Precision:\n",
    "- For the negative sentiment class (label 0), the precision is 0.74, indicating that out of all the samples predicted as negative, only 74% were actually negative.\n",
    "- For the positive sentiment class (label 1), the precision is 0.84, indicating that out of all the samples predicted as positive, 84% were actually positive.\n",
    "\n",
    "Recall:\n",
    "- For the negative sentiment class (label 0), the recall is 0.03, which means only 3% of the actual negative samples were correctly predicted as negative.\n",
    "- For the positive sentiment class (label 1), the recall is 1.00, indicating that all the actual positive samples were correctly predicted as positive.\n",
    "\n",
    "F1-Score:\n",
    "- The F1-score is a harmonic mean of precision and recall, providing a balanced measure of model performance.\n",
    "- For the negative sentiment class (label 0), the F1-score is 0.06, indicating low performance due to low recall.\n",
    "- For the positive sentiment class (label 1), the F1-score is 0.91, indicating high performance due to high precision and recall.\n",
    "\n",
    "Support:\n",
    "- The support indicates the number of samples in each class.\n",
    "- For the negative sentiment class (label 0), the support is 1018, representing the number of actual negative samples in the test set.\n",
    "- For the positive sentiment class (label 1), the support is 5152, representing the number of actual positive samples in the test set.\n",
    "\n",
    "Overall, the KNN model performs poorly in predicting the negative sentiment class (low recall), but performs well in predicting the positive sentiment class (high precision and recall). The confusion matrix shows that the majority of the misclassifications occur in predicting negative sentiment (32 samples predicted as negative were actually positive).\n",
    "\n",
    "\n",
    "\n",
    "\n"
   ]
  },
  {
   "attachments": {},
   "cell_type": "markdown",
   "metadata": {},
   "source": [
    "#### Testing KNN Model"
   ]
  },
  {
   "cell_type": "code",
   "execution_count": 44,
   "metadata": {},
   "outputs": [
    {
     "name": "stdout",
     "output_type": "stream",
     "text": [
      "Predicted Sentiment: Negative\n"
     ]
    }
   ],
   "source": [
    "# testing KNN model with negative review\n",
    "review = 'Bad product. Very much disappointed'\n",
    "predicted_sentiment = predict_sentiment(knn_model, review)\n",
    "print(\"Predicted Sentiment:\", predicted_sentiment)"
   ]
  },
  {
   "cell_type": "code",
   "execution_count": 45,
   "metadata": {},
   "outputs": [
    {
     "name": "stdout",
     "output_type": "stream",
     "text": [
      "Predicted Sentiment: Positive\n"
     ]
    }
   ],
   "source": [
    "# testing KNN model with positive review\n",
    "review = 'Good product. Works well'\n",
    "predicted_sentiment = predict_sentiment(knn_model, review)\n",
    "print(\"Predicted Sentiment:\", predicted_sentiment)"
   ]
  },
  {
   "attachments": {},
   "cell_type": "markdown",
   "metadata": {},
   "source": [
    "### 3.4 Logistic Regression Model"
   ]
  },
  {
   "cell_type": "code",
   "execution_count": 46,
   "metadata": {},
   "outputs": [
    {
     "data": {
      "text/html": [
       "<style>#sk-container-id-4 {color: black;background-color: white;}#sk-container-id-4 pre{padding: 0;}#sk-container-id-4 div.sk-toggleable {background-color: white;}#sk-container-id-4 label.sk-toggleable__label {cursor: pointer;display: block;width: 100%;margin-bottom: 0;padding: 0.3em;box-sizing: border-box;text-align: center;}#sk-container-id-4 label.sk-toggleable__label-arrow:before {content: \"▸\";float: left;margin-right: 0.25em;color: #696969;}#sk-container-id-4 label.sk-toggleable__label-arrow:hover:before {color: black;}#sk-container-id-4 div.sk-estimator:hover label.sk-toggleable__label-arrow:before {color: black;}#sk-container-id-4 div.sk-toggleable__content {max-height: 0;max-width: 0;overflow: hidden;text-align: left;background-color: #f0f8ff;}#sk-container-id-4 div.sk-toggleable__content pre {margin: 0.2em;color: black;border-radius: 0.25em;background-color: #f0f8ff;}#sk-container-id-4 input.sk-toggleable__control:checked~div.sk-toggleable__content {max-height: 200px;max-width: 100%;overflow: auto;}#sk-container-id-4 input.sk-toggleable__control:checked~label.sk-toggleable__label-arrow:before {content: \"▾\";}#sk-container-id-4 div.sk-estimator input.sk-toggleable__control:checked~label.sk-toggleable__label {background-color: #d4ebff;}#sk-container-id-4 div.sk-label input.sk-toggleable__control:checked~label.sk-toggleable__label {background-color: #d4ebff;}#sk-container-id-4 input.sk-hidden--visually {border: 0;clip: rect(1px 1px 1px 1px);clip: rect(1px, 1px, 1px, 1px);height: 1px;margin: -1px;overflow: hidden;padding: 0;position: absolute;width: 1px;}#sk-container-id-4 div.sk-estimator {font-family: monospace;background-color: #f0f8ff;border: 1px dotted black;border-radius: 0.25em;box-sizing: border-box;margin-bottom: 0.5em;}#sk-container-id-4 div.sk-estimator:hover {background-color: #d4ebff;}#sk-container-id-4 div.sk-parallel-item::after {content: \"\";width: 100%;border-bottom: 1px solid gray;flex-grow: 1;}#sk-container-id-4 div.sk-label:hover label.sk-toggleable__label {background-color: #d4ebff;}#sk-container-id-4 div.sk-serial::before {content: \"\";position: absolute;border-left: 1px solid gray;box-sizing: border-box;top: 0;bottom: 0;left: 50%;z-index: 0;}#sk-container-id-4 div.sk-serial {display: flex;flex-direction: column;align-items: center;background-color: white;padding-right: 0.2em;padding-left: 0.2em;position: relative;}#sk-container-id-4 div.sk-item {position: relative;z-index: 1;}#sk-container-id-4 div.sk-parallel {display: flex;align-items: stretch;justify-content: center;background-color: white;position: relative;}#sk-container-id-4 div.sk-item::before, #sk-container-id-4 div.sk-parallel-item::before {content: \"\";position: absolute;border-left: 1px solid gray;box-sizing: border-box;top: 0;bottom: 0;left: 50%;z-index: -1;}#sk-container-id-4 div.sk-parallel-item {display: flex;flex-direction: column;z-index: 1;position: relative;background-color: white;}#sk-container-id-4 div.sk-parallel-item:first-child::after {align-self: flex-end;width: 50%;}#sk-container-id-4 div.sk-parallel-item:last-child::after {align-self: flex-start;width: 50%;}#sk-container-id-4 div.sk-parallel-item:only-child::after {width: 0;}#sk-container-id-4 div.sk-dashed-wrapped {border: 1px dashed gray;margin: 0 0.4em 0.5em 0.4em;box-sizing: border-box;padding-bottom: 0.4em;background-color: white;}#sk-container-id-4 div.sk-label label {font-family: monospace;font-weight: bold;display: inline-block;line-height: 1.2em;}#sk-container-id-4 div.sk-label-container {text-align: center;}#sk-container-id-4 div.sk-container {/* jupyter's `normalize.less` sets `[hidden] { display: none; }` but bootstrap.min.css set `[hidden] { display: none !important; }` so we also need the `!important` here to be able to override the default hidden behavior on the sphinx rendered scikit-learn.org. See: https://github.com/scikit-learn/scikit-learn/issues/21755 */display: inline-block !important;position: relative;}#sk-container-id-4 div.sk-text-repr-fallback {display: none;}</style><div id=\"sk-container-id-4\" class=\"sk-top-container\"><div class=\"sk-text-repr-fallback\"><pre>LogisticRegression()</pre><b>In a Jupyter environment, please rerun this cell to show the HTML representation or trust the notebook. <br />On GitHub, the HTML representation is unable to render, please try loading this page with nbviewer.org.</b></div><div class=\"sk-container\" hidden><div class=\"sk-item\"><div class=\"sk-estimator sk-toggleable\"><input class=\"sk-toggleable__control sk-hidden--visually\" id=\"sk-estimator-id-4\" type=\"checkbox\" checked><label for=\"sk-estimator-id-4\" class=\"sk-toggleable__label sk-toggleable__label-arrow\">LogisticRegression</label><div class=\"sk-toggleable__content\"><pre>LogisticRegression()</pre></div></div></div></div></div>"
      ],
      "text/plain": [
       "LogisticRegression()"
      ]
     },
     "execution_count": 46,
     "metadata": {},
     "output_type": "execute_result"
    }
   ],
   "source": [
    "# Logistic regression model\n",
    "lr_model = LogisticRegression()\n",
    "lr_model.fit(X_train_tvec, y_train)"
   ]
  },
  {
   "cell_type": "code",
   "execution_count": 47,
   "metadata": {},
   "outputs": [],
   "source": [
    "# predict using testing data and generate classification report\n",
    "lr_predictions, classification_report_df = predict_generated_report(lr_model, y_test, X_test_tvec)"
   ]
  },
  {
   "cell_type": "code",
   "execution_count": 48,
   "metadata": {},
   "outputs": [
    {
     "data": {
      "text/html": [
       "<style type=\"text/css\">\n",
       "#T_671dc_row0_col0, #T_671dc_row0_col1, #T_671dc_row0_col2, #T_671dc_row2_col3 {\n",
       "  background-color: #f3f0f3;\n",
       "  color: #000000;\n",
       "}\n",
       "#T_671dc_row0_col3 {\n",
       "  background-color: #e0c8e0;\n",
       "  color: #000000;\n",
       "}\n",
       "#T_671dc_row1_col0, #T_671dc_row1_col1, #T_671dc_row1_col2, #T_671dc_row3_col3, #T_671dc_row4_col3 {\n",
       "  background-color: #800080;\n",
       "  color: #f1f1f1;\n",
       "}\n",
       "#T_671dc_row1_col3 {\n",
       "  background-color: #932793;\n",
       "  color: #f1f1f1;\n",
       "}\n",
       "#T_671dc_row2_col0 {\n",
       "  background-color: #891289;\n",
       "  color: #f1f1f1;\n",
       "}\n",
       "#T_671dc_row2_col1, #T_671dc_row4_col1 {\n",
       "  background-color: #922692;\n",
       "  color: #f1f1f1;\n",
       "}\n",
       "#T_671dc_row2_col2 {\n",
       "  background-color: #912391;\n",
       "  color: #f1f1f1;\n",
       "}\n",
       "#T_671dc_row3_col0 {\n",
       "  background-color: #b56fb5;\n",
       "  color: #f1f1f1;\n",
       "}\n",
       "#T_671dc_row3_col1 {\n",
       "  background-color: #b977b9;\n",
       "  color: #f1f1f1;\n",
       "}\n",
       "#T_671dc_row3_col2 {\n",
       "  background-color: #bb7cbb;\n",
       "  color: #f1f1f1;\n",
       "}\n",
       "#T_671dc_row4_col0 {\n",
       "  background-color: #922592;\n",
       "  color: #f1f1f1;\n",
       "}\n",
       "#T_671dc_row4_col2 {\n",
       "  background-color: #952c95;\n",
       "  color: #f1f1f1;\n",
       "}\n",
       "</style>\n",
       "<table id=\"T_671dc\">\n",
       "  <thead>\n",
       "    <tr>\n",
       "      <th class=\"blank level0\" >&nbsp;</th>\n",
       "      <th id=\"T_671dc_level0_col0\" class=\"col_heading level0 col0\" >precision</th>\n",
       "      <th id=\"T_671dc_level0_col1\" class=\"col_heading level0 col1\" >recall</th>\n",
       "      <th id=\"T_671dc_level0_col2\" class=\"col_heading level0 col2\" >f1-score</th>\n",
       "      <th id=\"T_671dc_level0_col3\" class=\"col_heading level0 col3\" >support</th>\n",
       "    </tr>\n",
       "  </thead>\n",
       "  <tbody>\n",
       "    <tr>\n",
       "      <th id=\"T_671dc_level0_row0\" class=\"row_heading level0 row0\" >0</th>\n",
       "      <td id=\"T_671dc_row0_col0\" class=\"data row0 col0\" >0.790000</td>\n",
       "      <td id=\"T_671dc_row0_col1\" class=\"data row0 col1\" >0.590000</td>\n",
       "      <td id=\"T_671dc_row0_col2\" class=\"data row0 col2\" >0.680000</td>\n",
       "      <td id=\"T_671dc_row0_col3\" class=\"data row0 col3\" >1018.000000</td>\n",
       "    </tr>\n",
       "    <tr>\n",
       "      <th id=\"T_671dc_level0_row1\" class=\"row_heading level0 row1\" >1</th>\n",
       "      <td id=\"T_671dc_row1_col0\" class=\"data row1 col0\" >0.920000</td>\n",
       "      <td id=\"T_671dc_row1_col1\" class=\"data row1 col1\" >0.970000</td>\n",
       "      <td id=\"T_671dc_row1_col2\" class=\"data row1 col2\" >0.950000</td>\n",
       "      <td id=\"T_671dc_row1_col3\" class=\"data row1 col3\" >5152.000000</td>\n",
       "    </tr>\n",
       "    <tr>\n",
       "      <th id=\"T_671dc_level0_row2\" class=\"row_heading level0 row2\" >accuracy</th>\n",
       "      <td id=\"T_671dc_row2_col0\" class=\"data row2 col0\" >0.910000</td>\n",
       "      <td id=\"T_671dc_row2_col1\" class=\"data row2 col1\" >0.910000</td>\n",
       "      <td id=\"T_671dc_row2_col2\" class=\"data row2 col2\" >0.910000</td>\n",
       "      <td id=\"T_671dc_row2_col3\" class=\"data row2 col3\" >0.910000</td>\n",
       "    </tr>\n",
       "    <tr>\n",
       "      <th id=\"T_671dc_level0_row3\" class=\"row_heading level0 row3\" >macro avg</th>\n",
       "      <td id=\"T_671dc_row3_col0\" class=\"data row3 col0\" >0.860000</td>\n",
       "      <td id=\"T_671dc_row3_col1\" class=\"data row3 col1\" >0.780000</td>\n",
       "      <td id=\"T_671dc_row3_col2\" class=\"data row3 col2\" >0.810000</td>\n",
       "      <td id=\"T_671dc_row3_col3\" class=\"data row3 col3\" >6170.000000</td>\n",
       "    </tr>\n",
       "    <tr>\n",
       "      <th id=\"T_671dc_level0_row4\" class=\"row_heading level0 row4\" >weighted avg</th>\n",
       "      <td id=\"T_671dc_row4_col0\" class=\"data row4 col0\" >0.900000</td>\n",
       "      <td id=\"T_671dc_row4_col1\" class=\"data row4 col1\" >0.910000</td>\n",
       "      <td id=\"T_671dc_row4_col2\" class=\"data row4 col2\" >0.900000</td>\n",
       "      <td id=\"T_671dc_row4_col3\" class=\"data row4 col3\" >6170.000000</td>\n",
       "    </tr>\n",
       "  </tbody>\n",
       "</table>\n"
      ],
      "text/plain": [
       "<pandas.io.formats.style.Styler at 0x202da0d0890>"
      ]
     },
     "execution_count": 48,
     "metadata": {},
     "output_type": "execute_result"
    }
   ],
   "source": [
    "# display the classification report\n",
    "display_classification_report(\"Purple\", classification_report_df)"
   ]
  },
  {
   "cell_type": "code",
   "execution_count": 49,
   "metadata": {},
   "outputs": [
    {
     "name": "stdout",
     "output_type": "stream",
     "text": [
      "[[ 602  416]\n",
      " [ 162 4990]]\n"
     ]
    },
    {
     "data": {
      "image/png": "[encoded data removed]",
      "text/plain": [
       "<Figure size 640x480 with 2 Axes>"
      ]
     },
     "metadata": {},
     "output_type": "display_data"
    }
   ],
   "source": [
    "plot_confusition_matrix(\"Blues\", y_test, lr_predictions)"
   ]
  },
  {
   "attachments": {},
   "cell_type": "markdown",
   "metadata": {},
   "source": [
    "Let's analyze the results for the Logistic Regression model:\n",
    "\n",
    "Precision:\n",
    "\n",
    "- For the negative sentiment class (label 0), the precision is 0.79, indicating that out of all the samples predicted as negative, 79% were actually negative.\n",
    "- For the positive sentiment class (label 1), the precision is 0.92, indicating that out of all the samples predicted as positive, 92% were actually positive.\n",
    "\n",
    "Recall:\n",
    "\n",
    "- For the negative sentiment class (label 0), the recall is 0.59, indicating that 59% of the actual negative samples were correctly predicted as negative.\n",
    "- For the positive sentiment class (label 1), the recall is 0.97, indicating that 97% of the actual positive samples were correctly predicted as positive.\n",
    "\n",
    "F1-Score:\n",
    "\n",
    "- For the negative sentiment class (label 0), the F1-score is 0.68, indicating moderate performance.\n",
    "- For the positive sentiment class (label 1), the F1-score is 0.95, indicating high performance.\n",
    "\n",
    "Support:\n",
    "\n",
    "- The support indicates the number of samples in each class.\n",
    "- For the negative sentiment class (label 0), the support is 1018, representing the number of actual negative samples in the test set.\n",
    "- For the positive sentiment class (label 1), the support is 5152, representing the number of actual positive samples in the test set.\n",
    "\n",
    "The confusion matrix shows that there are 602 samples predicted as negative that are actually negative, 416 samples predicted as positive that are actually negative, 162 samples predicted as negative that are actually positive, and 4990 samples predicted as positive that are actually positive.\n",
    "\n",
    "Overall, the Logistic Regression model performs reasonably well in predicting both negative and positive sentiments, with higher accuracy, precision, and recall for the positive sentiment class compared to the negative sentiment class."
   ]
  },
  {
   "attachments": {},
   "cell_type": "markdown",
   "metadata": {},
   "source": [
    "#### Test Logistic Regression Model"
   ]
  },
  {
   "cell_type": "code",
   "execution_count": 50,
   "metadata": {},
   "outputs": [
    {
     "name": "stdout",
     "output_type": "stream",
     "text": [
      "Predicted Sentiment: Negative\n"
     ]
    }
   ],
   "source": [
    "# test the logistic regression model with negative review\n",
    "review = 'Bad product. Very much disappointed'\n",
    "predicted_sentiment = predict_sentiment(lr_model, review)\n",
    "print(\"Predicted Sentiment:\", predicted_sentiment)"
   ]
  },
  {
   "cell_type": "code",
   "execution_count": 51,
   "metadata": {},
   "outputs": [
    {
     "name": "stdout",
     "output_type": "stream",
     "text": [
      "Predicted Sentiment: Positive\n"
     ]
    }
   ],
   "source": [
    "# test the logistic regression model with positive review\n",
    "review = 'Good product. Works well'\n",
    "predicted_sentiment = predict_sentiment(lr_model, review)\n",
    "print(\"Predicted Sentiment:\", predicted_sentiment)"
   ]
  },
  {
   "attachments": {},
   "cell_type": "markdown",
   "metadata": {},
   "source": [
    "### 3.5 Naive Bayes Model"
   ]
  },
  {
   "cell_type": "code",
   "execution_count": 52,
   "metadata": {},
   "outputs": [
    {
     "data": {
      "text/html": [
       "<style>#sk-container-id-5 {color: black;background-color: white;}#sk-container-id-5 pre{padding: 0;}#sk-container-id-5 div.sk-toggleable {background-color: white;}#sk-container-id-5 label.sk-toggleable__label {cursor: pointer;display: block;width: 100%;margin-bottom: 0;padding: 0.3em;box-sizing: border-box;text-align: center;}#sk-container-id-5 label.sk-toggleable__label-arrow:before {content: \"▸\";float: left;margin-right: 0.25em;color: #696969;}#sk-container-id-5 label.sk-toggleable__label-arrow:hover:before {color: black;}#sk-container-id-5 div.sk-estimator:hover label.sk-toggleable__label-arrow:before {color: black;}#sk-container-id-5 div.sk-toggleable__content {max-height: 0;max-width: 0;overflow: hidden;text-align: left;background-color: #f0f8ff;}#sk-container-id-5 div.sk-toggleable__content pre {margin: 0.2em;color: black;border-radius: 0.25em;background-color: #f0f8ff;}#sk-container-id-5 input.sk-toggleable__control:checked~div.sk-toggleable__content {max-height: 200px;max-width: 100%;overflow: auto;}#sk-container-id-5 input.sk-toggleable__control:checked~label.sk-toggleable__label-arrow:before {content: \"▾\";}#sk-container-id-5 div.sk-estimator input.sk-toggleable__control:checked~label.sk-toggleable__label {background-color: #d4ebff;}#sk-container-id-5 div.sk-label input.sk-toggleable__control:checked~label.sk-toggleable__label {background-color: #d4ebff;}#sk-container-id-5 input.sk-hidden--visually {border: 0;clip: rect(1px 1px 1px 1px);clip: rect(1px, 1px, 1px, 1px);height: 1px;margin: -1px;overflow: hidden;padding: 0;position: absolute;width: 1px;}#sk-container-id-5 div.sk-estimator {font-family: monospace;background-color: #f0f8ff;border: 1px dotted black;border-radius: 0.25em;box-sizing: border-box;margin-bottom: 0.5em;}#sk-container-id-5 div.sk-estimator:hover {background-color: #d4ebff;}#sk-container-id-5 div.sk-parallel-item::after {content: \"\";width: 100%;border-bottom: 1px solid gray;flex-grow: 1;}#sk-container-id-5 div.sk-label:hover label.sk-toggleable__label {background-color: #d4ebff;}#sk-container-id-5 div.sk-serial::before {content: \"\";position: absolute;border-left: 1px solid gray;box-sizing: border-box;top: 0;bottom: 0;left: 50%;z-index: 0;}#sk-container-id-5 div.sk-serial {display: flex;flex-direction: column;align-items: center;background-color: white;padding-right: 0.2em;padding-left: 0.2em;position: relative;}#sk-container-id-5 div.sk-item {position: relative;z-index: 1;}#sk-container-id-5 div.sk-parallel {display: flex;align-items: stretch;justify-content: center;background-color: white;position: relative;}#sk-container-id-5 div.sk-item::before, #sk-container-id-5 div.sk-parallel-item::before {content: \"\";position: absolute;border-left: 1px solid gray;box-sizing: border-box;top: 0;bottom: 0;left: 50%;z-index: -1;}#sk-container-id-5 div.sk-parallel-item {display: flex;flex-direction: column;z-index: 1;position: relative;background-color: white;}#sk-container-id-5 div.sk-parallel-item:first-child::after {align-self: flex-end;width: 50%;}#sk-container-id-5 div.sk-parallel-item:last-child::after {align-self: flex-start;width: 50%;}#sk-container-id-5 div.sk-parallel-item:only-child::after {width: 0;}#sk-container-id-5 div.sk-dashed-wrapped {border: 1px dashed gray;margin: 0 0.4em 0.5em 0.4em;box-sizing: border-box;padding-bottom: 0.4em;background-color: white;}#sk-container-id-5 div.sk-label label {font-family: monospace;font-weight: bold;display: inline-block;line-height: 1.2em;}#sk-container-id-5 div.sk-label-container {text-align: center;}#sk-container-id-5 div.sk-container {/* jupyter's `normalize.less` sets `[hidden] { display: none; }` but bootstrap.min.css set `[hidden] { display: none !important; }` so we also need the `!important` here to be able to override the default hidden behavior on the sphinx rendered scikit-learn.org. See: https://github.com/scikit-learn/scikit-learn/issues/21755 */display: inline-block !important;position: relative;}#sk-container-id-5 div.sk-text-repr-fallback {display: none;}</style><div id=\"sk-container-id-5\" class=\"sk-top-container\"><div class=\"sk-text-repr-fallback\"><pre>MultinomialNB()</pre><b>In a Jupyter environment, please rerun this cell to show the HTML representation or trust the notebook. <br />On GitHub, the HTML representation is unable to render, please try loading this page with nbviewer.org.</b></div><div class=\"sk-container\" hidden><div class=\"sk-item\"><div class=\"sk-estimator sk-toggleable\"><input class=\"sk-toggleable__control sk-hidden--visually\" id=\"sk-estimator-id-5\" type=\"checkbox\" checked><label for=\"sk-estimator-id-5\" class=\"sk-toggleable__label sk-toggleable__label-arrow\">MultinomialNB</label><div class=\"sk-toggleable__content\"><pre>MultinomialNB()</pre></div></div></div></div></div>"
      ],
      "text/plain": [
       "MultinomialNB()"
      ]
     },
     "execution_count": 52,
     "metadata": {},
     "output_type": "execute_result"
    }
   ],
   "source": [
    "# naive bayes model\n",
    "nb_model = naive_bayes.MultinomialNB()\n",
    "nb_model.fit(X_train_tvec, y_train)"
   ]
  },
  {
   "cell_type": "code",
   "execution_count": 53,
   "metadata": {},
   "outputs": [],
   "source": [
    "# predict using testing data and generate classification report\n",
    "nb_predictions, classification_report_df = predict_generated_report(nb_model, y_test, X_test_tvec)"
   ]
  },
  {
   "cell_type": "code",
   "execution_count": 54,
   "metadata": {},
   "outputs": [
    {
     "data": {
      "text/html": [
       "<style type=\"text/css\">\n",
       "#T_e22a6_row0_col0, #T_e22a6_row1_col1, #T_e22a6_row1_col2, #T_e22a6_row3_col3, #T_e22a6_row4_col3 {\n",
       "  background-color: #0000ff;\n",
       "  color: #f1f1f1;\n",
       "}\n",
       "#T_e22a6_row0_col1, #T_e22a6_row0_col2, #T_e22a6_row1_col0, #T_e22a6_row2_col0, #T_e22a6_row2_col3, #T_e22a6_row4_col0 {\n",
       "  background-color: #f0f0f3;\n",
       "  color: #000000;\n",
       "}\n",
       "#T_e22a6_row0_col3 {\n",
       "  background-color: #c9c9f5;\n",
       "  color: #000000;\n",
       "}\n",
       "#T_e22a6_row1_col3, #T_e22a6_row2_col1, #T_e22a6_row4_col1, #T_e22a6_row4_col2 {\n",
       "  background-color: #2828fd;\n",
       "  color: #f1f1f1;\n",
       "}\n",
       "#T_e22a6_row2_col2 {\n",
       "  background-color: #1616fe;\n",
       "  color: #f1f1f1;\n",
       "}\n",
       "#T_e22a6_row3_col0 {\n",
       "  background-color: #9090f8;\n",
       "  color: #f1f1f1;\n",
       "}\n",
       "#T_e22a6_row3_col1 {\n",
       "  background-color: #7a7af9;\n",
       "  color: #f1f1f1;\n",
       "}\n",
       "#T_e22a6_row3_col2 {\n",
       "  background-color: #7979f9;\n",
       "  color: #f1f1f1;\n",
       "}\n",
       "</style>\n",
       "<table id=\"T_e22a6\">\n",
       "  <thead>\n",
       "    <tr>\n",
       "      <th class=\"blank level0\" >&nbsp;</th>\n",
       "      <th id=\"T_e22a6_level0_col0\" class=\"col_heading level0 col0\" >precision</th>\n",
       "      <th id=\"T_e22a6_level0_col1\" class=\"col_heading level0 col1\" >recall</th>\n",
       "      <th id=\"T_e22a6_level0_col2\" class=\"col_heading level0 col2\" >f1-score</th>\n",
       "      <th id=\"T_e22a6_level0_col3\" class=\"col_heading level0 col3\" >support</th>\n",
       "    </tr>\n",
       "  </thead>\n",
       "  <tbody>\n",
       "    <tr>\n",
       "      <th id=\"T_e22a6_level0_row0\" class=\"row_heading level0 row0\" >0</th>\n",
       "      <td id=\"T_e22a6_row0_col0\" class=\"data row0 col0\" >0.910000</td>\n",
       "      <td id=\"T_e22a6_row0_col1\" class=\"data row0 col1\" >0.150000</td>\n",
       "      <td id=\"T_e22a6_row0_col2\" class=\"data row0 col2\" >0.260000</td>\n",
       "      <td id=\"T_e22a6_row0_col3\" class=\"data row0 col3\" >1018.000000</td>\n",
       "    </tr>\n",
       "    <tr>\n",
       "      <th id=\"T_e22a6_level0_row1\" class=\"row_heading level0 row1\" >1</th>\n",
       "      <td id=\"T_e22a6_row1_col0\" class=\"data row1 col0\" >0.860000</td>\n",
       "      <td id=\"T_e22a6_row1_col1\" class=\"data row1 col1\" >1.000000</td>\n",
       "      <td id=\"T_e22a6_row1_col2\" class=\"data row1 col2\" >0.920000</td>\n",
       "      <td id=\"T_e22a6_row1_col3\" class=\"data row1 col3\" >5152.000000</td>\n",
       "    </tr>\n",
       "    <tr>\n",
       "      <th id=\"T_e22a6_level0_row2\" class=\"row_heading level0 row2\" >accuracy</th>\n",
       "      <td id=\"T_e22a6_row2_col0\" class=\"data row2 col0\" >0.860000</td>\n",
       "      <td id=\"T_e22a6_row2_col1\" class=\"data row2 col1\" >0.860000</td>\n",
       "      <td id=\"T_e22a6_row2_col2\" class=\"data row2 col2\" >0.860000</td>\n",
       "      <td id=\"T_e22a6_row2_col3\" class=\"data row2 col3\" >0.860000</td>\n",
       "    </tr>\n",
       "    <tr>\n",
       "      <th id=\"T_e22a6_level0_row3\" class=\"row_heading level0 row3\" >macro avg</th>\n",
       "      <td id=\"T_e22a6_row3_col0\" class=\"data row3 col0\" >0.880000</td>\n",
       "      <td id=\"T_e22a6_row3_col1\" class=\"data row3 col1\" >0.570000</td>\n",
       "      <td id=\"T_e22a6_row3_col2\" class=\"data row3 col2\" >0.590000</td>\n",
       "      <td id=\"T_e22a6_row3_col3\" class=\"data row3 col3\" >6170.000000</td>\n",
       "    </tr>\n",
       "    <tr>\n",
       "      <th id=\"T_e22a6_level0_row4\" class=\"row_heading level0 row4\" >weighted avg</th>\n",
       "      <td id=\"T_e22a6_row4_col0\" class=\"data row4 col0\" >0.860000</td>\n",
       "      <td id=\"T_e22a6_row4_col1\" class=\"data row4 col1\" >0.860000</td>\n",
       "      <td id=\"T_e22a6_row4_col2\" class=\"data row4 col2\" >0.810000</td>\n",
       "      <td id=\"T_e22a6_row4_col3\" class=\"data row4 col3\" >6170.000000</td>\n",
       "    </tr>\n",
       "  </tbody>\n",
       "</table>\n"
      ],
      "text/plain": [
       "<pandas.io.formats.style.Styler at 0x202d73ea690>"
      ]
     },
     "execution_count": 54,
     "metadata": {},
     "output_type": "execute_result"
    }
   ],
   "source": [
    "# display the classification report\n",
    "display_classification_report(\"blue\", classification_report_df)"
   ]
  },
  {
   "cell_type": "code",
   "execution_count": 55,
   "metadata": {},
   "outputs": [
    {
     "name": "stdout",
     "output_type": "stream",
     "text": [
      "[[ 154  864]\n",
      " [  16 5136]]\n"
     ]
    },
    {
     "data": {
      "image/png": "[encoded data removed]",
      "text/plain": [
       "<Figure size 640x480 with 2 Axes>"
      ]
     },
     "metadata": {},
     "output_type": "display_data"
    }
   ],
   "source": [
    "# display the confusion matrix\n",
    "plot_confusition_matrix(\"Purples\", y_test, nb_predictions)"
   ]
  },
  {
   "attachments": {},
   "cell_type": "markdown",
   "metadata": {},
   "source": [
    "Let's analyze the results for the Naive Bayes model:\n",
    "\n",
    "Precision:\n",
    "\n",
    "- For the negative sentiment class (label 0), the precision is 0.91, indicating that out of all the samples predicted as negative, 91% were actually negative.\n",
    "- For the positive sentiment class (label 1), the precision is 0.86, indicating that out of all the samples predicted as positive, 86% were actually positive.\n",
    "\n",
    "Recall:\n",
    "\n",
    "- For the negative sentiment class (label 0), the recall is 0.15, indicating that only 15% of the actual negative samples were correctly predicted as negative.\n",
    "- For the positive sentiment class (label 1), the recall is 1.0, indicating that 100% of the actual positive samples were correctly predicted as positive.\n",
    "\n",
    "F1-Score:\n",
    "\n",
    "- For the negative sentiment class (label 0), the F1-score is 0.26, indicating low performance.\n",
    "- For the positive sentiment class (label 1), the F1-score is 0.92, indicating high performance.\n",
    "Support:\n",
    "\n",
    "The support indicates the number of samples in each class.\n",
    "- For the negative sentiment class (label 0), the support is 1018, representing the number of actual negative samples in the test set.\n",
    "- For the positive sentiment class (label 1), the support is 5152, representing the number of actual positive samples in the test set.\n",
    "\n",
    "The confusion matrix shows that there are 154 samples predicted as negative that are actually negative, 864 samples predicted as positive that are actually negative, 16 samples predicted as negative that are actually positive, and 5136 samples predicted as positive that are actually positive.\n",
    "\n",
    "Overall, the Naive Bayes model has higher precision and recall for the positive sentiment class compared to the negative sentiment class. However, the model struggles with predicting the negative sentiment class, as indicated by the low recall and F1-score."
   ]
  },
  {
   "attachments": {},
   "cell_type": "markdown",
   "metadata": {},
   "source": [
    "#### Test the Naive Bayes Model"
   ]
  },
  {
   "cell_type": "code",
   "execution_count": 56,
   "metadata": {},
   "outputs": [
    {
     "name": "stdout",
     "output_type": "stream",
     "text": [
      "Predicted Sentiment: Positive\n"
     ]
    }
   ],
   "source": [
    "# test the naive bayes model with negative review\n",
    "review = 'Bad product. Very much disappointed'\n",
    "predicted_sentiment = predict_sentiment(nb_model, review)\n",
    "print(\"Predicted Sentiment:\", predicted_sentiment)"
   ]
  },
  {
   "cell_type": "code",
   "execution_count": 57,
   "metadata": {},
   "outputs": [
    {
     "name": "stdout",
     "output_type": "stream",
     "text": [
      "Predicted Sentiment: Positive\n"
     ]
    }
   ],
   "source": [
    "# test the naive bayes model with positive review\n",
    "review = 'Good product. Works well'\n",
    "predicted_sentiment = predict_sentiment(nb_model, review)\n",
    "print(\"Predicted Sentiment:\", predicted_sentiment)"
   ]
  },
  {
   "attachments": {},
   "cell_type": "markdown",
   "metadata": {},
   "source": [
    "## 4. Results"
   ]
  },
  {
   "attachments": {},
   "cell_type": "markdown",
   "metadata": {},
   "source": [
    "Based on the evaluation, the SVC model demonstrates high accuracy and strong performance in accurately classifying the sentiment of electronics product reviews. The Random Forest model also exhibits balanced performance across different sentiment classes. The Logistic Regression model, while showing reasonable performance overall, may have some limitations in correctly predicting negative sentiment. The Naive Bayes model struggles with correctly identifying negative sentiment, resulting in lower recall and F1-score for negative sentiment reviews."
   ]
  },
  {
   "attachments": {},
   "cell_type": "markdown",
   "metadata": {},
   "source": [
    "## 5. Conclusions"
   ]
  },
  {
   "attachments": {},
   "cell_type": "markdown",
   "metadata": {},
   "source": [
    "The Amazon Product Sentiment Analysis project focuses on sentiment classification of customer reviews specifically for electronics products on the Amazon platform. By leveraging machine learning techniques and sentiment analysis, businesses can gain valuable insights into customer sentiments towards their electronics offerings. These insights can help businesses make informed decisions, improve product quality, enhance customer satisfaction, and stay competitive in the electronics market. The project emphasizes the importance of preprocessing text data and selecting appropriate machine learning algorithms for accurate sentiment analysis, ultimately empowering businesses to better understand and address customer feedback in the electronics category."
   ]
  }
 ],
 "metadata": {
  "kernelspec": {
   "display_name": "Python 3",
   "language": "python",
   "name": "python3"
  },
  "language_info": {
   "codemirror_mode": {
    "name": "ipython",
    "version": 3
   },
   "file_extension": ".py",
   "mimetype": "text/x-python",
   "name": "python",
   "nbconvert_exporter": "python",
   "pygments_lexer": "ipython3",
   "version": "3.11.3"
  },
  "orig_nbformat": 4
 },
 "nbformat": 4,
 "nbformat_minor": 2
}
