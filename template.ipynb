{
 "cells": [
  {
   "attachments": {},
   "cell_type": "markdown",
   "metadata": {},
   "source": [
    "# Sentimental Analysis of Amazon Reviews"
   ]
  },
  {
   "attachments": {},
   "cell_type": "markdown",
   "metadata": {},
   "source": [
    "## 1. Introduction"
   ]
  },
  {
   "attachments": {},
   "cell_type": "markdown",
   "metadata": {},
   "source": [
    "write some introduction here"
   ]
  },
  {
   "attachments": {},
   "cell_type": "markdown",
   "metadata": {},
   "source": [
    "### 1.1 About the Dataset"
   ]
  },
  {
   "attachments": {},
   "cell_type": "markdown",
   "metadata": {},
   "source": [
    "write about dataset here"
   ]
  },
  {
   "attachments": {},
   "cell_type": "markdown",
   "metadata": {},
   "source": [
    "### 1.2 Context"
   ]
  },
  {
   "attachments": {},
   "cell_type": "markdown",
   "metadata": {},
   "source": [
    "write context information"
   ]
  },
  {
   "attachments": {},
   "cell_type": "markdown",
   "metadata": {},
   "source": [
    "### 1.3 Dataset Content"
   ]
  },
  {
   "attachments": {},
   "cell_type": "markdown",
   "metadata": {},
   "source": [
    "write content of the dataset"
   ]
  },
  {
   "attachments": {},
   "cell_type": "markdown",
   "metadata": {},
   "source": [
    "## 2. Imports and Data Loading"
   ]
  },
  {
   "attachments": {},
   "cell_type": "markdown",
   "metadata": {},
   "source": [
    "### 2.1 Importing required modules"
   ]
  },
  {
   "cell_type": "code",
   "execution_count": 209,
   "metadata": {},
   "outputs": [],
   "source": [
    "# Import required modules\n",
    "import re\n",
    "import lxml\n",
    "import nltk\n",
    "import numpy as np\n",
    "import pandas as pd\n",
    "import seaborn as sns\n",
    "import matplotlib.pyplot as plt\n",
    "\n",
    "from bs4 import BeautifulSoup\n",
    "from nltk.corpus import stopwords \n",
    "\n",
    "from sklearn import naive_bayes\n",
    "from sklearn.svm import LinearSVC\n",
    "from sklearn.pipeline import Pipeline \n",
    "from sklearn.neighbors import KNeighborsClassifier\n",
    "from sklearn.linear_model import LogisticRegression\n",
    "from sklearn.ensemble import RandomForestClassifier\n",
    "from sklearn.model_selection import train_test_split\n",
    "from sklearn.feature_extraction.text import TfidfVectorizer\n",
    "from sklearn.metrics import accuracy_score, confusion_matrix, classification_report,ConfusionMatrixDisplay"
   ]
  },
  {
   "attachments": {},
   "cell_type": "markdown",
   "metadata": {},
   "source": [
    "### 2.2 Loading the database"
   ]
  },
  {
   "cell_type": "code",
   "execution_count": 210,
   "metadata": {},
   "outputs": [],
   "source": [
    "#load the csv file\n",
    "data = pd.read_csv('dataset/appl_1_amazon_pc.csv')"
   ]
  },
  {
   "cell_type": "code",
   "execution_count": 211,
   "metadata": {},
   "outputs": [
    {
     "data": {
      "text/html": [
       "<div>\n",
       "<style scoped>\n",
       "    .dataframe tbody tr th:only-of-type {\n",
       "        vertical-align: middle;\n",
       "    }\n",
       "\n",
       "    .dataframe tbody tr th {\n",
       "        vertical-align: top;\n",
       "    }\n",
       "\n",
       "    .dataframe thead th {\n",
       "        text-align: right;\n",
       "    }\n",
       "</style>\n",
       "<table border=\"1\" class=\"dataframe\">\n",
       "  <thead>\n",
       "    <tr style=\"text-align: right;\">\n",
       "      <th></th>\n",
       "      <th>marketplace</th>\n",
       "      <th>customer_id</th>\n",
       "      <th>review_id</th>\n",
       "      <th>product_id</th>\n",
       "      <th>product_parent</th>\n",
       "      <th>product_title</th>\n",
       "      <th>product_category</th>\n",
       "      <th>star_rating</th>\n",
       "      <th>helpful_votes</th>\n",
       "      <th>total_votes</th>\n",
       "      <th>vine</th>\n",
       "      <th>verified_purchase</th>\n",
       "      <th>review_headline</th>\n",
       "      <th>review_body</th>\n",
       "      <th>review_date</th>\n",
       "      <th>sentiment</th>\n",
       "    </tr>\n",
       "  </thead>\n",
       "  <tbody>\n",
       "    <tr>\n",
       "      <th>0</th>\n",
       "      <td>US</td>\n",
       "      <td>11555559</td>\n",
       "      <td>R1QXC7AHHJBQ3O</td>\n",
       "      <td>B00IKPX4GY</td>\n",
       "      <td>2693241</td>\n",
       "      <td>Fire HD 7, 7\" HD Display, Wi-Fi, 8 GB</td>\n",
       "      <td>PC</td>\n",
       "      <td>5</td>\n",
       "      <td>0</td>\n",
       "      <td>0</td>\n",
       "      <td>N</td>\n",
       "      <td>Y</td>\n",
       "      <td>Five Stars</td>\n",
       "      <td>Great love it</td>\n",
       "      <td>2015-08-31</td>\n",
       "      <td>1</td>\n",
       "    </tr>\n",
       "    <tr>\n",
       "      <th>1</th>\n",
       "      <td>US</td>\n",
       "      <td>31469372</td>\n",
       "      <td>R175VSRV6ZETOP</td>\n",
       "      <td>B00IKPYKWG</td>\n",
       "      <td>2693241</td>\n",
       "      <td>Fire HD 7, 7\" HD Display, Wi-Fi, 8 GB</td>\n",
       "      <td>PC</td>\n",
       "      <td>3</td>\n",
       "      <td>0</td>\n",
       "      <td>0</td>\n",
       "      <td>N</td>\n",
       "      <td>N</td>\n",
       "      <td>Lots of ads Slow processing speed Occasionally...</td>\n",
       "      <td>Lots of ads&lt;br /&gt;Slow processing speed&lt;br /&gt;Oc...</td>\n",
       "      <td>2015-08-31</td>\n",
       "      <td>0</td>\n",
       "    </tr>\n",
       "    <tr>\n",
       "      <th>2</th>\n",
       "      <td>US</td>\n",
       "      <td>26843895</td>\n",
       "      <td>R2HRFF78MWGY19</td>\n",
       "      <td>B00IKPW0UA</td>\n",
       "      <td>2693241</td>\n",
       "      <td>Fire HD 7, 7\" HD Display, Wi-Fi, 8 GB</td>\n",
       "      <td>PC</td>\n",
       "      <td>5</td>\n",
       "      <td>0</td>\n",
       "      <td>0</td>\n",
       "      <td>N</td>\n",
       "      <td>Y</td>\n",
       "      <td>Well thought out device</td>\n",
       "      <td>Excellent unit.  The versatility of this table...</td>\n",
       "      <td>2015-08-31</td>\n",
       "      <td>1</td>\n",
       "    </tr>\n",
       "    <tr>\n",
       "      <th>3</th>\n",
       "      <td>US</td>\n",
       "      <td>19844868</td>\n",
       "      <td>R8Q39WPKYVSTX</td>\n",
       "      <td>B00LCHSHMS</td>\n",
       "      <td>2693241</td>\n",
       "      <td>Fire HD 7, 7\" HD Display, Wi-Fi, 8 GB</td>\n",
       "      <td>PC</td>\n",
       "      <td>4</td>\n",
       "      <td>0</td>\n",
       "      <td>0</td>\n",
       "      <td>N</td>\n",
       "      <td>N</td>\n",
       "      <td>Not all apps/games we were looking forward to ...</td>\n",
       "      <td>I bought this on Amazon Prime so I ended up bu...</td>\n",
       "      <td>2015-08-31</td>\n",
       "      <td>1</td>\n",
       "    </tr>\n",
       "    <tr>\n",
       "      <th>4</th>\n",
       "      <td>US</td>\n",
       "      <td>1189852</td>\n",
       "      <td>R3RL4C8YP2ZCJL</td>\n",
       "      <td>B00IKPZ5V6</td>\n",
       "      <td>2693241</td>\n",
       "      <td>Fire HD 7, 7\" HD Display, Wi-Fi, 8 GB</td>\n",
       "      <td>PC</td>\n",
       "      <td>5</td>\n",
       "      <td>0</td>\n",
       "      <td>0</td>\n",
       "      <td>N</td>\n",
       "      <td>Y</td>\n",
       "      <td>Five Stars</td>\n",
       "      <td>All Amazon products continue to meet my expect...</td>\n",
       "      <td>2015-08-31</td>\n",
       "      <td>1</td>\n",
       "    </tr>\n",
       "  </tbody>\n",
       "</table>\n",
       "</div>"
      ],
      "text/plain": [
       "  marketplace  customer_id       review_id  product_id  product_parent   \n",
       "0          US     11555559  R1QXC7AHHJBQ3O  B00IKPX4GY         2693241  \\\n",
       "1          US     31469372  R175VSRV6ZETOP  B00IKPYKWG         2693241   \n",
       "2          US     26843895  R2HRFF78MWGY19  B00IKPW0UA         2693241   \n",
       "3          US     19844868   R8Q39WPKYVSTX  B00LCHSHMS         2693241   \n",
       "4          US      1189852  R3RL4C8YP2ZCJL  B00IKPZ5V6         2693241   \n",
       "\n",
       "                           product_title product_category  star_rating   \n",
       "0  Fire HD 7, 7\" HD Display, Wi-Fi, 8 GB               PC            5  \\\n",
       "1  Fire HD 7, 7\" HD Display, Wi-Fi, 8 GB               PC            3   \n",
       "2  Fire HD 7, 7\" HD Display, Wi-Fi, 8 GB               PC            5   \n",
       "3  Fire HD 7, 7\" HD Display, Wi-Fi, 8 GB               PC            4   \n",
       "4  Fire HD 7, 7\" HD Display, Wi-Fi, 8 GB               PC            5   \n",
       "\n",
       "   helpful_votes  total_votes vine verified_purchase   \n",
       "0              0            0    N                 Y  \\\n",
       "1              0            0    N                 N   \n",
       "2              0            0    N                 Y   \n",
       "3              0            0    N                 N   \n",
       "4              0            0    N                 Y   \n",
       "\n",
       "                                     review_headline   \n",
       "0                                         Five Stars  \\\n",
       "1  Lots of ads Slow processing speed Occasionally...   \n",
       "2                            Well thought out device   \n",
       "3  Not all apps/games we were looking forward to ...   \n",
       "4                                         Five Stars   \n",
       "\n",
       "                                         review_body review_date  sentiment  \n",
       "0                                      Great love it  2015-08-31          1  \n",
       "1  Lots of ads<br />Slow processing speed<br />Oc...  2015-08-31          0  \n",
       "2  Excellent unit.  The versatility of this table...  2015-08-31          1  \n",
       "3  I bought this on Amazon Prime so I ended up bu...  2015-08-31          1  \n",
       "4  All Amazon products continue to meet my expect...  2015-08-31          1  "
      ]
     },
     "execution_count": 211,
     "metadata": {},
     "output_type": "execute_result"
    }
   ],
   "source": [
    "data.head()"
   ]
  },
  {
   "cell_type": "code",
   "execution_count": 212,
   "metadata": {},
   "outputs": [
    {
     "data": {
      "text/plain": [
       "Index(['marketplace', 'customer_id', 'review_id', 'product_id',\n",
       "       'product_parent', 'product_title', 'product_category', 'star_rating',\n",
       "       'helpful_votes', 'total_votes', 'vine', 'verified_purchase',\n",
       "       'review_headline', 'review_body', 'review_date', 'sentiment'],\n",
       "      dtype='object')"
      ]
     },
     "execution_count": 212,
     "metadata": {},
     "output_type": "execute_result"
    }
   ],
   "source": [
    "data.columns"
   ]
  },
  {
   "cell_type": "code",
   "execution_count": 213,
   "metadata": {},
   "outputs": [
    {
     "name": "stdout",
     "output_type": "stream",
     "text": [
      "<class 'pandas.core.frame.DataFrame'>\n",
      "RangeIndex: 30846 entries, 0 to 30845\n",
      "Data columns (total 16 columns):\n",
      " #   Column             Non-Null Count  Dtype \n",
      "---  ------             --------------  ----- \n",
      " 0   marketplace        30846 non-null  object\n",
      " 1   customer_id        30846 non-null  int64 \n",
      " 2   review_id          30846 non-null  object\n",
      " 3   product_id         30846 non-null  object\n",
      " 4   product_parent     30846 non-null  int64 \n",
      " 5   product_title      30846 non-null  object\n",
      " 6   product_category   30846 non-null  object\n",
      " 7   star_rating        30846 non-null  int64 \n",
      " 8   helpful_votes      30846 non-null  int64 \n",
      " 9   total_votes        30846 non-null  int64 \n",
      " 10  vine               30846 non-null  object\n",
      " 11  verified_purchase  30846 non-null  object\n",
      " 12  review_headline    30844 non-null  object\n",
      " 13  review_body        30842 non-null  object\n",
      " 14  review_date        30846 non-null  object\n",
      " 15  sentiment          30846 non-null  int64 \n",
      "dtypes: int64(6), object(10)\n",
      "memory usage: 3.8+ MB\n"
     ]
    }
   ],
   "source": [
    "# properties of the dataset\n",
    "data.info()"
   ]
  },
  {
   "attachments": {},
   "cell_type": "markdown",
   "metadata": {},
   "source": [
    "### 2.3 Data Cleaning"
   ]
  },
  {
   "attachments": {},
   "cell_type": "markdown",
   "metadata": {},
   "source": [
    "## 3. Sentiment Analysis and Visualization of the results"
   ]
  },
  {
   "attachments": {},
   "cell_type": "markdown",
   "metadata": {},
   "source": [
    "First, we need to assign labels to Amazon product reviews based on star ratings. Reviews with 5 or 4 stars are labeled as positive, while the rest are labeled as negative. This allows us to perform sentiment analysis on the reviews."
   ]
  },
  {
   "cell_type": "code",
   "execution_count": 214,
   "metadata": {},
   "outputs": [],
   "source": [
    "data['sentiment'] = np.where(data['star_rating'] == 5.0, 1,\n",
    "                           np.where(data['star_rating'] == 4.0, 1, 0))"
   ]
  },
  {
   "attachments": {},
   "cell_type": "markdown",
   "metadata": {},
   "source": [
    "Now let's choose a particular product for analysis. This allows for a more focused and actionable understanding of customer sentiments"
   ]
  },
  {
   "cell_type": "code",
   "execution_count": 215,
   "metadata": {},
   "outputs": [],
   "source": [
    "def get_particular_product(data, product_name):\n",
    "    data = data.loc[data[\"product_title\"] == product_name]\n",
    "    return data"
   ]
  },
  {
   "cell_type": "code",
   "execution_count": 216,
   "metadata": {},
   "outputs": [],
   "source": [
    "# Choose a particular product for analysis\n",
    "selected_product = get_particular_product(data, 'Fire HD 7, 7\" HD Display, Wi-Fi, 8 GB')"
   ]
  },
  {
   "attachments": {},
   "cell_type": "markdown",
   "metadata": {},
   "source": [
    "\n",
    "Now, we'll split into training and testing datasets for sentiment analysis of a specific product."
   ]
  },
  {
   "cell_type": "code",
   "execution_count": 217,
   "metadata": {},
   "outputs": [],
   "source": [
    "# Split the dataset into training and testing sets\n",
    "reviews = selected_product['review_body']\n",
    "sentiments = selected_product['sentiment']\n",
    "\n",
    "X_train, X_test, y_train, y_test = train_test_split(reviews, sentiments, test_size=0.2, random_state=42)"
   ]
  },
  {
   "attachments": {},
   "cell_type": "markdown",
   "metadata": {},
   "source": [
    "### Preprocessing and Cleaning the dataset"
   ]
  },
  {
   "attachments": {},
   "cell_type": "markdown",
   "metadata": {},
   "source": [
    "Now raw text data needs to be preprocessed and cleaned before using it for training a sentiment analysis model. The preprocessing steps, such as removing HTML elements, special characters, converting to lowercase, and removing stopwords, help to standardize the text, remove noise, and focus on the most relevant information. By cleaning and preprocessing the data, we can improve the accuracy and effectiveness of the sentiment analysis model by providing it with a more refined and meaningful input."
   ]
  },
  {
   "cell_type": "code",
   "execution_count": 218,
   "metadata": {},
   "outputs": [],
   "source": [
    "# removes HTML elements and tags from the text\n",
    "def removeHTML(raw_text):\n",
    "    if isinstance(raw_text, str):\n",
    "        clean_HTML = BeautifulSoup(raw_text, 'html.parser').get_text()\n",
    "        return clean_HTML\n",
    "    else:\n",
    "        return raw_text"
   ]
  },
  {
   "cell_type": "code",
   "execution_count": 219,
   "metadata": {},
   "outputs": [],
   "source": [
    "# removes special characters from the text\n",
    "def removeSpecialChar(raw_text):\n",
    "    if isinstance(raw_text, str):\n",
    "        clean_SpecialChar = re.sub(\"[^a-zA-Z]\", \" \", raw_text)\n",
    "        return clean_SpecialChar\n",
    "    else:\n",
    "        return str(raw_text)"
   ]
  },
  {
   "cell_type": "code",
   "execution_count": 220,
   "metadata": {},
   "outputs": [],
   "source": [
    "# converts the text to lower case\n",
    "def toLowerCase(raw_text):\n",
    "    clean_LowerCase = raw_text.lower().split()\n",
    "    return( \" \".join(clean_LowerCase))  "
   ]
  },
  {
   "cell_type": "code",
   "execution_count": 221,
   "metadata": {},
   "outputs": [],
   "source": [
    "# removes stop words from the text\n",
    "def removeStopWords(raw_text):\n",
    "    stops = set(stopwords.words(\"english\"))\n",
    "    words = [w for w in raw_text if not w in stops]\n",
    "    return( \" \".join(words))"
   ]
  },
  {
   "cell_type": "code",
   "execution_count": 222,
   "metadata": {},
   "outputs": [],
   "source": [
    "# cleans data\n",
    "def clean_data(data):\n",
    "    cleaned_data = []\n",
    "    \n",
    "    for text in data:\n",
    "        text = removeHTML(text)\n",
    "        text = removeSpecialChar(text)\n",
    "        text = toLowerCase(text)\n",
    "        removeStopWords(text)\n",
    "        cleaned_data.append(text)\n",
    "    \n",
    "    return cleaned_data"
   ]
  },
  {
   "cell_type": "code",
   "execution_count": 223,
   "metadata": {},
   "outputs": [
    {
     "name": "stderr",
     "output_type": "stream",
     "text": [
      "C:\\Users\\ibsaa\\AppData\\Local\\Temp\\ipykernel_6956\\3698073279.py:4: MarkupResemblesLocatorWarning: The input looks more like a filename than markup. You may want to open this file and pass the filehandle into Beautiful Soup.\n",
      "  clean_HTML = BeautifulSoup(raw_text, 'html.parser').get_text()\n"
     ]
    }
   ],
   "source": [
    "# stores the cleaned training text in a list\n",
    "cleaned_X_train = clean_data(X_train)"
   ]
  },
  {
   "cell_type": "code",
   "execution_count": 224,
   "metadata": {},
   "outputs": [
    {
     "name": "stderr",
     "output_type": "stream",
     "text": [
      "C:\\Users\\ibsaa\\AppData\\Local\\Temp\\ipykernel_6956\\3698073279.py:4: MarkupResemblesLocatorWarning: The input looks more like a filename than markup. You may want to open this file and pass the filehandle into Beautiful Soup.\n",
      "  clean_HTML = BeautifulSoup(raw_text, 'html.parser').get_text()\n"
     ]
    }
   ],
   "source": [
    "# X_testing clean set\n",
    "cleaned_X_test = clean_data(X_test)"
   ]
  },
  {
   "attachments": {},
   "cell_type": "markdown",
   "metadata": {},
   "source": [
    "### TF-IDF Feature Extraction"
   ]
  },
  {
   "attachments": {},
   "cell_type": "markdown",
   "metadata": {},
   "source": [
    "- TF-IDF feature extraction is used to convert the raw textual reviews into a numerical representation. This technique considers the frequency of words in each review (term frequency, TF) and the rarity of words across all reviews (inverse document frequency, IDF).\n",
    "- In our case, TF-IDF feature extraction is applied to capture the relevance and distinctiveness of words in the reviews, improving the accuracy of sentiment analysis on Amazon product data."
   ]
  },
  {
   "cell_type": "code",
   "execution_count": 225,
   "metadata": {},
   "outputs": [],
   "source": [
    "# create a TF-IDF vectorizer object\n",
    "tvec = TfidfVectorizer(use_idf=True, strip_accents='ascii')\n",
    "\n",
    "# fit and transform the preprocessed training data into TF-IDF features\n",
    "X_train_tvec = tvec.fit_transform(cleaned_X_train)\n",
    "X_test_tvec = tvec.transform(cleaned_X_test)"
   ]
  },
  {
   "attachments": {},
   "cell_type": "markdown",
   "metadata": {},
   "source": [
    "### 3.1 Support Vector Classifier (SVC) Model"
   ]
  },
  {
   "cell_type": "code",
   "execution_count": 226,
   "metadata": {},
   "outputs": [
    {
     "data": {
      "text/html": [
       "<style>#sk-container-id-12 {color: black;background-color: white;}#sk-container-id-12 pre{padding: 0;}#sk-container-id-12 div.sk-toggleable {background-color: white;}#sk-container-id-12 label.sk-toggleable__label {cursor: pointer;display: block;width: 100%;margin-bottom: 0;padding: 0.3em;box-sizing: border-box;text-align: center;}#sk-container-id-12 label.sk-toggleable__label-arrow:before {content: \"▸\";float: left;margin-right: 0.25em;color: #696969;}#sk-container-id-12 label.sk-toggleable__label-arrow:hover:before {color: black;}#sk-container-id-12 div.sk-estimator:hover label.sk-toggleable__label-arrow:before {color: black;}#sk-container-id-12 div.sk-toggleable__content {max-height: 0;max-width: 0;overflow: hidden;text-align: left;background-color: #f0f8ff;}#sk-container-id-12 div.sk-toggleable__content pre {margin: 0.2em;color: black;border-radius: 0.25em;background-color: #f0f8ff;}#sk-container-id-12 input.sk-toggleable__control:checked~div.sk-toggleable__content {max-height: 200px;max-width: 100%;overflow: auto;}#sk-container-id-12 input.sk-toggleable__control:checked~label.sk-toggleable__label-arrow:before {content: \"▾\";}#sk-container-id-12 div.sk-estimator input.sk-toggleable__control:checked~label.sk-toggleable__label {background-color: #d4ebff;}#sk-container-id-12 div.sk-label input.sk-toggleable__control:checked~label.sk-toggleable__label {background-color: #d4ebff;}#sk-container-id-12 input.sk-hidden--visually {border: 0;clip: rect(1px 1px 1px 1px);clip: rect(1px, 1px, 1px, 1px);height: 1px;margin: -1px;overflow: hidden;padding: 0;position: absolute;width: 1px;}#sk-container-id-12 div.sk-estimator {font-family: monospace;background-color: #f0f8ff;border: 1px dotted black;border-radius: 0.25em;box-sizing: border-box;margin-bottom: 0.5em;}#sk-container-id-12 div.sk-estimator:hover {background-color: #d4ebff;}#sk-container-id-12 div.sk-parallel-item::after {content: \"\";width: 100%;border-bottom: 1px solid gray;flex-grow: 1;}#sk-container-id-12 div.sk-label:hover label.sk-toggleable__label {background-color: #d4ebff;}#sk-container-id-12 div.sk-serial::before {content: \"\";position: absolute;border-left: 1px solid gray;box-sizing: border-box;top: 0;bottom: 0;left: 50%;z-index: 0;}#sk-container-id-12 div.sk-serial {display: flex;flex-direction: column;align-items: center;background-color: white;padding-right: 0.2em;padding-left: 0.2em;position: relative;}#sk-container-id-12 div.sk-item {position: relative;z-index: 1;}#sk-container-id-12 div.sk-parallel {display: flex;align-items: stretch;justify-content: center;background-color: white;position: relative;}#sk-container-id-12 div.sk-item::before, #sk-container-id-12 div.sk-parallel-item::before {content: \"\";position: absolute;border-left: 1px solid gray;box-sizing: border-box;top: 0;bottom: 0;left: 50%;z-index: -1;}#sk-container-id-12 div.sk-parallel-item {display: flex;flex-direction: column;z-index: 1;position: relative;background-color: white;}#sk-container-id-12 div.sk-parallel-item:first-child::after {align-self: flex-end;width: 50%;}#sk-container-id-12 div.sk-parallel-item:last-child::after {align-self: flex-start;width: 50%;}#sk-container-id-12 div.sk-parallel-item:only-child::after {width: 0;}#sk-container-id-12 div.sk-dashed-wrapped {border: 1px dashed gray;margin: 0 0.4em 0.5em 0.4em;box-sizing: border-box;padding-bottom: 0.4em;background-color: white;}#sk-container-id-12 div.sk-label label {font-family: monospace;font-weight: bold;display: inline-block;line-height: 1.2em;}#sk-container-id-12 div.sk-label-container {text-align: center;}#sk-container-id-12 div.sk-container {/* jupyter's `normalize.less` sets `[hidden] { display: none; }` but bootstrap.min.css set `[hidden] { display: none !important; }` so we also need the `!important` here to be able to override the default hidden behavior on the sphinx rendered scikit-learn.org. See: https://github.com/scikit-learn/scikit-learn/issues/21755 */display: inline-block !important;position: relative;}#sk-container-id-12 div.sk-text-repr-fallback {display: none;}</style><div id=\"sk-container-id-12\" class=\"sk-top-container\"><div class=\"sk-text-repr-fallback\"><pre>LinearSVC(dual=False)</pre><b>In a Jupyter environment, please rerun this cell to show the HTML representation or trust the notebook. <br />On GitHub, the HTML representation is unable to render, please try loading this page with nbviewer.org.</b></div><div class=\"sk-container\" hidden><div class=\"sk-item\"><div class=\"sk-estimator sk-toggleable\"><input class=\"sk-toggleable__control sk-hidden--visually\" id=\"sk-estimator-id-12\" type=\"checkbox\" checked><label for=\"sk-estimator-id-12\" class=\"sk-toggleable__label sk-toggleable__label-arrow\">LinearSVC</label><div class=\"sk-toggleable__content\"><pre>LinearSVC(dual=False)</pre></div></div></div></div></div>"
      ],
      "text/plain": [
       "LinearSVC(dual=False)"
      ]
     },
     "execution_count": 226,
     "metadata": {},
     "output_type": "execute_result"
    }
   ],
   "source": [
    "#svc model\n",
    "svc_model = LinearSVC(multi_class='ovr',C=1.0,loss='squared_hinge', dual=False)\n",
    "svc_model.fit(X_train_tvec, y_train)"
   ]
  },
  {
   "cell_type": "code",
   "execution_count": 227,
   "metadata": {},
   "outputs": [],
   "source": [
    "# Predict using testing data and generate classification report\n",
    "svc_predictions = svc_model.predict(X_test_tvec)\n",
    "classification_report_svc = classification_report(y_test, svc_predictions, output_dict=True)\n",
    "classification_report_df = pd.DataFrame(classification_report_svc).transpose().round(2)"
   ]
  },
  {
   "cell_type": "code",
   "execution_count": 228,
   "metadata": {},
   "outputs": [
    {
     "data": {
      "text/html": [
       "<style type=\"text/css\">\n",
       "#T_d2902_row0_col0, #T_d2902_row0_col1, #T_d2902_row0_col2, #T_d2902_row2_col3 {\n",
       "  background-color: #f2f2dd;\n",
       "  color: #000000;\n",
       "}\n",
       "#T_d2902_row0_col3 {\n",
       "  background-color: #f4f4b9;\n",
       "  color: #000000;\n",
       "}\n",
       "#T_d2902_row1_col0, #T_d2902_row1_col1, #T_d2902_row1_col2, #T_d2902_row3_col3, #T_d2902_row4_col3 {\n",
       "  background-color: #ffff00;\n",
       "  color: #000000;\n",
       "}\n",
       "#T_d2902_row1_col3 {\n",
       "  background-color: #fdfd24;\n",
       "  color: #000000;\n",
       "}\n",
       "#T_d2902_row2_col0 {\n",
       "  background-color: #fdfd1c;\n",
       "  color: #000000;\n",
       "}\n",
       "#T_d2902_row2_col1, #T_d2902_row4_col1 {\n",
       "  background-color: #fdfd21;\n",
       "  color: #000000;\n",
       "}\n",
       "#T_d2902_row2_col2 {\n",
       "  background-color: #fdfd22;\n",
       "  color: #000000;\n",
       "}\n",
       "#T_d2902_row3_col0 {\n",
       "  background-color: #f8f86f;\n",
       "  color: #000000;\n",
       "}\n",
       "#T_d2902_row3_col1 {\n",
       "  background-color: #f9f96c;\n",
       "  color: #000000;\n",
       "}\n",
       "#T_d2902_row3_col2 {\n",
       "  background-color: #f9f96e;\n",
       "  color: #000000;\n",
       "}\n",
       "#T_d2902_row4_col0 {\n",
       "  background-color: #fdfd2a;\n",
       "  color: #000000;\n",
       "}\n",
       "#T_d2902_row4_col2 {\n",
       "  background-color: #fdfd2b;\n",
       "  color: #000000;\n",
       "}\n",
       "</style>\n",
       "<table id=\"T_d2902\">\n",
       "  <thead>\n",
       "    <tr>\n",
       "      <th class=\"blank level0\" >&nbsp;</th>\n",
       "      <th id=\"T_d2902_level0_col0\" class=\"col_heading level0 col0\" >precision</th>\n",
       "      <th id=\"T_d2902_level0_col1\" class=\"col_heading level0 col1\" >recall</th>\n",
       "      <th id=\"T_d2902_level0_col2\" class=\"col_heading level0 col2\" >f1-score</th>\n",
       "      <th id=\"T_d2902_level0_col3\" class=\"col_heading level0 col3\" >support</th>\n",
       "    </tr>\n",
       "  </thead>\n",
       "  <tbody>\n",
       "    <tr>\n",
       "      <th id=\"T_d2902_level0_row0\" class=\"row_heading level0 row0\" >0</th>\n",
       "      <td id=\"T_d2902_row0_col0\" class=\"data row0 col0\" >0.770000</td>\n",
       "      <td id=\"T_d2902_row0_col1\" class=\"data row0 col1\" >0.630000</td>\n",
       "      <td id=\"T_d2902_row0_col2\" class=\"data row0 col2\" >0.690000</td>\n",
       "      <td id=\"T_d2902_row0_col3\" class=\"data row0 col3\" >1018.000000</td>\n",
       "    </tr>\n",
       "    <tr>\n",
       "      <th id=\"T_d2902_level0_row1\" class=\"row_heading level0 row1\" >1</th>\n",
       "      <td id=\"T_d2902_row1_col0\" class=\"data row1 col0\" >0.930000</td>\n",
       "      <td id=\"T_d2902_row1_col1\" class=\"data row1 col1\" >0.960000</td>\n",
       "      <td id=\"T_d2902_row1_col2\" class=\"data row1 col2\" >0.950000</td>\n",
       "      <td id=\"T_d2902_row1_col3\" class=\"data row1 col3\" >5152.000000</td>\n",
       "    </tr>\n",
       "    <tr>\n",
       "      <th id=\"T_d2902_level0_row2\" class=\"row_heading level0 row2\" >accuracy</th>\n",
       "      <td id=\"T_d2902_row2_col0\" class=\"data row2 col0\" >0.910000</td>\n",
       "      <td id=\"T_d2902_row2_col1\" class=\"data row2 col1\" >0.910000</td>\n",
       "      <td id=\"T_d2902_row2_col2\" class=\"data row2 col2\" >0.910000</td>\n",
       "      <td id=\"T_d2902_row2_col3\" class=\"data row2 col3\" >0.910000</td>\n",
       "    </tr>\n",
       "    <tr>\n",
       "      <th id=\"T_d2902_level0_row3\" class=\"row_heading level0 row3\" >macro avg</th>\n",
       "      <td id=\"T_d2902_row3_col0\" class=\"data row3 col0\" >0.850000</td>\n",
       "      <td id=\"T_d2902_row3_col1\" class=\"data row3 col1\" >0.800000</td>\n",
       "      <td id=\"T_d2902_row3_col2\" class=\"data row3 col2\" >0.820000</td>\n",
       "      <td id=\"T_d2902_row3_col3\" class=\"data row3 col3\" >6170.000000</td>\n",
       "    </tr>\n",
       "    <tr>\n",
       "      <th id=\"T_d2902_level0_row4\" class=\"row_heading level0 row4\" >weighted avg</th>\n",
       "      <td id=\"T_d2902_row4_col0\" class=\"data row4 col0\" >0.900000</td>\n",
       "      <td id=\"T_d2902_row4_col1\" class=\"data row4 col1\" >0.910000</td>\n",
       "      <td id=\"T_d2902_row4_col2\" class=\"data row4 col2\" >0.900000</td>\n",
       "      <td id=\"T_d2902_row4_col3\" class=\"data row4 col3\" >6170.000000</td>\n",
       "    </tr>\n",
       "  </tbody>\n",
       "</table>\n"
      ],
      "text/plain": [
       "<pandas.io.formats.style.Styler at 0x2674ded26d0>"
      ]
     },
     "execution_count": 228,
     "metadata": {},
     "output_type": "execute_result"
    }
   ],
   "source": [
    "cm = sns.light_palette(\"yellow\", as_cmap=True)\n",
    "classification_report_df.style.background_gradient(cmap=cm)"
   ]
  },
  {
   "cell_type": "code",
   "execution_count": 229,
   "metadata": {},
   "outputs": [
    {
     "data": {
      "image/png": "[encoded data removed]",
      "text/plain": [
       "<Figure size 600x600 with 1 Axes>"
      ]
     },
     "metadata": {},
     "output_type": "display_data"
    }
   ],
   "source": [
    "# Plot confusion matrix\n",
    "confusion_matrix_result = confusion_matrix(y_test, svc_predictions)\n",
    "plt.figure(figsize=(6, 6))\n",
    "sns.heatmap(confusion_matrix_result, annot=True, fmt='g', cmap='Greens', cbar=False)\n",
    "plt.xlabel('Predicted Sentiment')\n",
    "plt.ylabel('True Sentiment')\n",
    "plt.title('Sentiment Analysis Confusion Matrix')\n",
    "plt.xticks([0.5, 1.5], ['Negative', 'Positive'])\n",
    "plt.yticks([0.5, 1.5], ['Negative', 'Positive'])\n",
    "plt.show()"
   ]
  },
  {
   "attachments": {},
   "cell_type": "markdown",
   "metadata": {},
   "source": [
    "Based on the classification report:\n",
    "\n",
    "- For class 0 (negative sentiment), the precision is 0.77, recall is 0.63, and F1-score is 0.69. This suggests that the classifier performs reasonably well in identifying negative sentiment, but there is room for improvement.\n",
    "- For class 1 (positive sentiment), the precision is 0.93, recall is 0.96, and F1-score is 0.95. These metrics indicate that the classifier is performing very well in identifying positive sentiment.\n",
    "- The accuracy of the classifier is 0.91, which is the overall percentage of correct predictions on the test data.\n",
    "\n",
    "The confusion matrix provides a more detailed breakdown of the classifier's predictions:\n",
    "\n",
    "- True Negative (TN): 644 instances were correctly predicted as negative sentiment.\n",
    "- False Positive (FP): 374 instances were incorrectly predicted as positive sentiment.\n",
    "- False Negative (FN): 193 instances were incorrectly predicted as negative sentiment.\n",
    "- True Positive (TP): 4959 instances were correctly predicted as positive sentiment.\n",
    "\n",
    "The confusion matrix helps in evaluating the classifier's performance and understanding the types of errors it makes."
   ]
  },
  {
   "cell_type": "code",
   "execution_count": 230,
   "metadata": {},
   "outputs": [],
   "source": [
    "def predict_sentiment_svc(review):\n",
    "    # Transform the review using the TF-IDF vectorizer\n",
    "    review_tvec = tvec.transform([review])\n",
    "    \n",
    "    # Make a prediction using the SVC model\n",
    "    sentiment = svc_model.predict(review_tvec)\n",
    "    \n",
    "    # Return the predicted sentiment\n",
    "    if sentiment[0]:\n",
    "        return 'Positive'\n",
    "    return 'Negative'"
   ]
  },
  {
   "cell_type": "code",
   "execution_count": 231,
   "metadata": {},
   "outputs": [
    {
     "name": "stdout",
     "output_type": "stream",
     "text": [
      "Predicted Sentiment: Negative\n"
     ]
    }
   ],
   "source": [
    "# Test the model with a sample Negative review\n",
    "demo_review = 'Three days of use and it broke. Very disappointed in this product. It worked perfectly for exactly three days and could not be resuscitated. \\\n",
    "               It was very inexpensive, so I did not want to pay half again the price to ship it back for an exchange. \\\n",
    "               The company would do nothing when they sent me an inquiry as to product satisfaction.'\n",
    "\n",
    "predicted_sentiment = predict_sentiment_svc(demo_review)\n",
    "print(\"Predicted Sentiment:\", predicted_sentiment)"
   ]
  },
  {
   "cell_type": "code",
   "execution_count": 232,
   "metadata": {},
   "outputs": [
    {
     "name": "stdout",
     "output_type": "stream",
     "text": [
      "Predicted Sentiment: Positive\n"
     ]
    }
   ],
   "source": [
    "demo_review_2 = \"Excellent product. Works well and performs as expected. I would recommend this product to anyone looking for a tablet.\"\n",
    "predicted_sentiment_2 = predict_sentiment_svc(demo_review_2)\n",
    "print(\"Predicted Sentiment:\", predicted_sentiment_2)"
   ]
  },
  {
   "attachments": {},
   "cell_type": "markdown",
   "metadata": {},
   "source": [
    "### 3.2 Random Forest Model"
   ]
  },
  {
   "cell_type": "code",
   "execution_count": 233,
   "metadata": {},
   "outputs": [
    {
     "data": {
      "text/html": [
       "<style>#sk-container-id-13 {color: black;background-color: white;}#sk-container-id-13 pre{padding: 0;}#sk-container-id-13 div.sk-toggleable {background-color: white;}#sk-container-id-13 label.sk-toggleable__label {cursor: pointer;display: block;width: 100%;margin-bottom: 0;padding: 0.3em;box-sizing: border-box;text-align: center;}#sk-container-id-13 label.sk-toggleable__label-arrow:before {content: \"▸\";float: left;margin-right: 0.25em;color: #696969;}#sk-container-id-13 label.sk-toggleable__label-arrow:hover:before {color: black;}#sk-container-id-13 div.sk-estimator:hover label.sk-toggleable__label-arrow:before {color: black;}#sk-container-id-13 div.sk-toggleable__content {max-height: 0;max-width: 0;overflow: hidden;text-align: left;background-color: #f0f8ff;}#sk-container-id-13 div.sk-toggleable__content pre {margin: 0.2em;color: black;border-radius: 0.25em;background-color: #f0f8ff;}#sk-container-id-13 input.sk-toggleable__control:checked~div.sk-toggleable__content {max-height: 200px;max-width: 100%;overflow: auto;}#sk-container-id-13 input.sk-toggleable__control:checked~label.sk-toggleable__label-arrow:before {content: \"▾\";}#sk-container-id-13 div.sk-estimator input.sk-toggleable__control:checked~label.sk-toggleable__label {background-color: #d4ebff;}#sk-container-id-13 div.sk-label input.sk-toggleable__control:checked~label.sk-toggleable__label {background-color: #d4ebff;}#sk-container-id-13 input.sk-hidden--visually {border: 0;clip: rect(1px 1px 1px 1px);clip: rect(1px, 1px, 1px, 1px);height: 1px;margin: -1px;overflow: hidden;padding: 0;position: absolute;width: 1px;}#sk-container-id-13 div.sk-estimator {font-family: monospace;background-color: #f0f8ff;border: 1px dotted black;border-radius: 0.25em;box-sizing: border-box;margin-bottom: 0.5em;}#sk-container-id-13 div.sk-estimator:hover {background-color: #d4ebff;}#sk-container-id-13 div.sk-parallel-item::after {content: \"\";width: 100%;border-bottom: 1px solid gray;flex-grow: 1;}#sk-container-id-13 div.sk-label:hover label.sk-toggleable__label {background-color: #d4ebff;}#sk-container-id-13 div.sk-serial::before {content: \"\";position: absolute;border-left: 1px solid gray;box-sizing: border-box;top: 0;bottom: 0;left: 50%;z-index: 0;}#sk-container-id-13 div.sk-serial {display: flex;flex-direction: column;align-items: center;background-color: white;padding-right: 0.2em;padding-left: 0.2em;position: relative;}#sk-container-id-13 div.sk-item {position: relative;z-index: 1;}#sk-container-id-13 div.sk-parallel {display: flex;align-items: stretch;justify-content: center;background-color: white;position: relative;}#sk-container-id-13 div.sk-item::before, #sk-container-id-13 div.sk-parallel-item::before {content: \"\";position: absolute;border-left: 1px solid gray;box-sizing: border-box;top: 0;bottom: 0;left: 50%;z-index: -1;}#sk-container-id-13 div.sk-parallel-item {display: flex;flex-direction: column;z-index: 1;position: relative;background-color: white;}#sk-container-id-13 div.sk-parallel-item:first-child::after {align-self: flex-end;width: 50%;}#sk-container-id-13 div.sk-parallel-item:last-child::after {align-self: flex-start;width: 50%;}#sk-container-id-13 div.sk-parallel-item:only-child::after {width: 0;}#sk-container-id-13 div.sk-dashed-wrapped {border: 1px dashed gray;margin: 0 0.4em 0.5em 0.4em;box-sizing: border-box;padding-bottom: 0.4em;background-color: white;}#sk-container-id-13 div.sk-label label {font-family: monospace;font-weight: bold;display: inline-block;line-height: 1.2em;}#sk-container-id-13 div.sk-label-container {text-align: center;}#sk-container-id-13 div.sk-container {/* jupyter's `normalize.less` sets `[hidden] { display: none; }` but bootstrap.min.css set `[hidden] { display: none !important; }` so we also need the `!important` here to be able to override the default hidden behavior on the sphinx rendered scikit-learn.org. See: https://github.com/scikit-learn/scikit-learn/issues/21755 */display: inline-block !important;position: relative;}#sk-container-id-13 div.sk-text-repr-fallback {display: none;}</style><div id=\"sk-container-id-13\" class=\"sk-top-container\"><div class=\"sk-text-repr-fallback\"><pre>RandomForestClassifier()</pre><b>In a Jupyter environment, please rerun this cell to show the HTML representation or trust the notebook. <br />On GitHub, the HTML representation is unable to render, please try loading this page with nbviewer.org.</b></div><div class=\"sk-container\" hidden><div class=\"sk-item\"><div class=\"sk-estimator sk-toggleable\"><input class=\"sk-toggleable__control sk-hidden--visually\" id=\"sk-estimator-id-13\" type=\"checkbox\" checked><label for=\"sk-estimator-id-13\" class=\"sk-toggleable__label sk-toggleable__label-arrow\">RandomForestClassifier</label><div class=\"sk-toggleable__content\"><pre>RandomForestClassifier()</pre></div></div></div></div></div>"
      ],
      "text/plain": [
       "RandomForestClassifier()"
      ]
     },
     "execution_count": 233,
     "metadata": {},
     "output_type": "execute_result"
    }
   ],
   "source": [
    "# Random Forest model\n",
    "random_forest_model = RandomForestClassifier()\n",
    "random_forest_model.fit(X_train_tvec, y_train)"
   ]
  },
  {
   "cell_type": "code",
   "execution_count": 234,
   "metadata": {},
   "outputs": [],
   "source": [
    "# Predict using testing data and generate classification report\n",
    "rainforest_predictions = random_forest_model.predict(X_test_tvec)\n",
    "classification_report_rf = classification_report(y_test, rainforest_predictions, output_dict=True)\n",
    "classification_report_rf_df = pd.DataFrame(classification_report_rf).transpose().round(2)"
   ]
  },
  {
   "cell_type": "code",
   "execution_count": 235,
   "metadata": {},
   "outputs": [
    {
     "data": {
      "text/html": [
       "<style type=\"text/css\">\n",
       "#T_faa00_row0_col0, #T_faa00_row0_col1, #T_faa00_row0_col2, #T_faa00_row2_col3 {\n",
       "  background-color: #f3f0f0;\n",
       "  color: #000000;\n",
       "}\n",
       "#T_faa00_row0_col3 {\n",
       "  background-color: #f5c8c8;\n",
       "  color: #000000;\n",
       "}\n",
       "#T_faa00_row1_col0, #T_faa00_row1_col1, #T_faa00_row1_col2, #T_faa00_row3_col3, #T_faa00_row4_col3 {\n",
       "  background-color: #ff0000;\n",
       "  color: #f1f1f1;\n",
       "}\n",
       "#T_faa00_row1_col3, #T_faa00_row2_col1, #T_faa00_row4_col1 {\n",
       "  background-color: #fd2828;\n",
       "  color: #f1f1f1;\n",
       "}\n",
       "#T_faa00_row2_col0, #T_faa00_row4_col0 {\n",
       "  background-color: #fc3b3b;\n",
       "  color: #f1f1f1;\n",
       "}\n",
       "#T_faa00_row2_col2 {\n",
       "  background-color: #fe1c1c;\n",
       "  color: #f1f1f1;\n",
       "}\n",
       "#T_faa00_row3_col0, #T_faa00_row3_col1, #T_faa00_row3_col2 {\n",
       "  background-color: #f97878;\n",
       "  color: #f1f1f1;\n",
       "}\n",
       "#T_faa00_row4_col2 {\n",
       "  background-color: #fd2626;\n",
       "  color: #f1f1f1;\n",
       "}\n",
       "</style>\n",
       "<table id=\"T_faa00\">\n",
       "  <thead>\n",
       "    <tr>\n",
       "      <th class=\"blank level0\" >&nbsp;</th>\n",
       "      <th id=\"T_faa00_level0_col0\" class=\"col_heading level0 col0\" >precision</th>\n",
       "      <th id=\"T_faa00_level0_col1\" class=\"col_heading level0 col1\" >recall</th>\n",
       "      <th id=\"T_faa00_level0_col2\" class=\"col_heading level0 col2\" >f1-score</th>\n",
       "      <th id=\"T_faa00_level0_col3\" class=\"col_heading level0 col3\" >support</th>\n",
       "    </tr>\n",
       "  </thead>\n",
       "  <tbody>\n",
       "    <tr>\n",
       "      <th id=\"T_faa00_level0_row0\" class=\"row_heading level0 row0\" >0</th>\n",
       "      <td id=\"T_faa00_row0_col0\" class=\"data row0 col0\" >0.840000</td>\n",
       "      <td id=\"T_faa00_row0_col1\" class=\"data row0 col1\" >0.290000</td>\n",
       "      <td id=\"T_faa00_row0_col2\" class=\"data row0 col2\" >0.430000</td>\n",
       "      <td id=\"T_faa00_row0_col3\" class=\"data row0 col3\" >1018.000000</td>\n",
       "    </tr>\n",
       "    <tr>\n",
       "      <th id=\"T_faa00_level0_row1\" class=\"row_heading level0 row1\" >1</th>\n",
       "      <td id=\"T_faa00_row1_col0\" class=\"data row1 col0\" >0.880000</td>\n",
       "      <td id=\"T_faa00_row1_col1\" class=\"data row1 col1\" >0.990000</td>\n",
       "      <td id=\"T_faa00_row1_col2\" class=\"data row1 col2\" >0.930000</td>\n",
       "      <td id=\"T_faa00_row1_col3\" class=\"data row1 col3\" >5152.000000</td>\n",
       "    </tr>\n",
       "    <tr>\n",
       "      <th id=\"T_faa00_level0_row2\" class=\"row_heading level0 row2\" >accuracy</th>\n",
       "      <td id=\"T_faa00_row2_col0\" class=\"data row2 col0\" >0.870000</td>\n",
       "      <td id=\"T_faa00_row2_col1\" class=\"data row2 col1\" >0.870000</td>\n",
       "      <td id=\"T_faa00_row2_col2\" class=\"data row2 col2\" >0.870000</td>\n",
       "      <td id=\"T_faa00_row2_col3\" class=\"data row2 col3\" >0.870000</td>\n",
       "    </tr>\n",
       "    <tr>\n",
       "      <th id=\"T_faa00_level0_row3\" class=\"row_heading level0 row3\" >macro avg</th>\n",
       "      <td id=\"T_faa00_row3_col0\" class=\"data row3 col0\" >0.860000</td>\n",
       "      <td id=\"T_faa00_row3_col1\" class=\"data row3 col1\" >0.640000</td>\n",
       "      <td id=\"T_faa00_row3_col2\" class=\"data row3 col2\" >0.680000</td>\n",
       "      <td id=\"T_faa00_row3_col3\" class=\"data row3 col3\" >6170.000000</td>\n",
       "    </tr>\n",
       "    <tr>\n",
       "      <th id=\"T_faa00_level0_row4\" class=\"row_heading level0 row4\" >weighted avg</th>\n",
       "      <td id=\"T_faa00_row4_col0\" class=\"data row4 col0\" >0.870000</td>\n",
       "      <td id=\"T_faa00_row4_col1\" class=\"data row4 col1\" >0.870000</td>\n",
       "      <td id=\"T_faa00_row4_col2\" class=\"data row4 col2\" >0.850000</td>\n",
       "      <td id=\"T_faa00_row4_col3\" class=\"data row4 col3\" >6170.000000</td>\n",
       "    </tr>\n",
       "  </tbody>\n",
       "</table>\n"
      ],
      "text/plain": [
       "<pandas.io.formats.style.Styler at 0x26750db4e90>"
      ]
     },
     "execution_count": 235,
     "metadata": {},
     "output_type": "execute_result"
    }
   ],
   "source": [
    "# display the classification report\n",
    "cm = sns.light_palette(\"red\", as_cmap=True)\n",
    "classification_report_rf_df.style.background_gradient(cmap=cm)"
   ]
  },
  {
   "cell_type": "code",
   "execution_count": 238,
   "metadata": {},
   "outputs": [
    {
     "data": {
      "text/plain": [
       "array([[ 299,  719],\n",
       "       [  58, 5094]], dtype=int64)"
      ]
     },
     "execution_count": 238,
     "metadata": {},
     "output_type": "execute_result"
    },
    {
     "data": {
      "image/png": "[encoded data removed]",
      "text/plain": [
       "<Figure size 640x480 with 2 Axes>"
      ]
     },
     "metadata": {},
     "output_type": "display_data"
    }
   ],
   "source": [
    "# confusion matrix\n",
    "ranfrst_predictions=random_forest_model.predict(tvec.transform(cleaned_X_test))\n",
    "ax= plt.subplot()\n",
    "cm=confusion_matrix(y_test,ranfrst_predictions)\n",
    "sns.heatmap(cm, annot=True, fmt='g', ax=ax,cmap='Oranges');  \n",
    "ax.set_xlabel('Predicted labels');ax.set_ylabel('True labels')\n",
    "ax.set_title('Confusion Matrix')\n",
    "ax.xaxis.set_ticklabels(['negative', 'positive']); ax.yaxis.set_ticklabels(['negative', 'positive'])\n",
    "cm"
   ]
  },
  {
   "attachments": {},
   "cell_type": "markdown",
   "metadata": {},
   "source": [
    "Here's the analysis for the Random Forest Model\n",
    "\n",
    "Precision:\n",
    "\n",
    "- For the \"Negative\" class (0), the precision is 0.84, indicating that 84% of the predicted \"Negative\" reviews are actually negative.\n",
    "- For the \"Positive\" class (1), the precision is 0.88, meaning that 88% of the predicted \"Positive\" reviews are actually positive.\n",
    "\n",
    "Recall:\n",
    "\n",
    "- For the \"Negative\" class (0), the recall is 0.29, indicating that only 29% of the actual negative reviews are correctly identified as negative.\n",
    "- For the \"Positive\" class (1), the recall is 0.99, meaning that 99% of the actual positive reviews are correctly identified as positive.\n",
    "\n",
    "F1-score:\n",
    "\n",
    "- For the \"Negative\" class (0), the F1-score is 0.43, which is the harmonic mean of precision and recall for the negative class.\n",
    "- For the \"Positive\" class (1), the F1-score is 0.93, representing the harmonic mean of precision and recall for the positive class.\n",
    "\n",
    "Support:\n",
    "\n",
    "- The \"Negative\" class has a support of 1018, indicating the number of samples in the testing data classified as negative.\n",
    "- The \"Positive\" class has a support of 5152, representing the number of samples classified as positive.\n",
    "\n",
    "Accuracy:\n",
    "\n",
    "- The overall accuracy of the model is 0.87, indicating that 87% of the reviews in the testing data are correctly classified.\n",
    "\n",
    "Confusion Matrix:\n",
    "\n",
    "- The confusion matrix shows the counts of true positive, false positive, true negative, and false negative predictions.\n",
    "- In this case, there are 299 true negative predictions, 719 false positive predictions, 58 false negative predictions, and 5094 true positive predictions."
   ]
  },
  {
   "attachments": {},
   "cell_type": "markdown",
   "metadata": {},
   "source": [
    "### 3.3 Analysis 3"
   ]
  },
  {
   "attachments": {},
   "cell_type": "markdown",
   "metadata": {},
   "source": [
    "### 3.4 Analysis 4"
   ]
  },
  {
   "attachments": {},
   "cell_type": "markdown",
   "metadata": {},
   "source": [
    "### 3.5 Analysis 5"
   ]
  },
  {
   "attachments": {},
   "cell_type": "markdown",
   "metadata": {},
   "source": [
    "## 4. Conclusion"
   ]
  },
  {
   "attachments": {},
   "cell_type": "markdown",
   "metadata": {},
   "source": [
    "## 5. Future Suggestion"
   ]
  }
 ],
 "metadata": {
  "kernelspec": {
   "display_name": "Python 3",
   "language": "python",
   "name": "python3"
  },
  "language_info": {
   "codemirror_mode": {
    "name": "ipython",
    "version": 3
   },
   "file_extension": ".py",
   "mimetype": "text/x-python",
   "name": "python",
   "nbconvert_exporter": "python",
   "pygments_lexer": "ipython3",
   "version": "3.11.3"
  },
  "orig_nbformat": 4
 },
 "nbformat": 4,
 "nbformat_minor": 2
}
